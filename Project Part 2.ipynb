{
 "cells": [
  {
   "cell_type": "markdown",
   "id": "87ffab56",
   "metadata": {},
   "source": [
    "<h2><center>AB0403 Decision Making with Programming and Data Analytics 2022/2023 Semester 1</center></h2>\n",
    "<h3><center>Prepared by:</center></h3>\n",
    "<h3><center>Yan Tong, Andy, Dylan, See Weng, Lin Xu</center></h3>\n",
    "<h3><center>Sem 7 Team 8</center></h3>"
   ]
  },
  {
   "cell_type": "markdown",
   "id": "66d8d01c",
   "metadata": {},
   "source": [
    "<h4><center>Data Cleaning</center></h4>"
   ]
  },
  {
   "cell_type": "code",
   "execution_count": 2,
   "id": "c1bb47cb",
   "metadata": {},
   "outputs": [],
   "source": [
    "import pandas as pd\n",
    "import matplotlib.pyplot as plt\n",
    "import seaborn as sns\n",
    "import numpy as np\n",
    "%matplotlib inline"
   ]
  },
  {
   "cell_type": "code",
   "execution_count": 2,
   "id": "b65d6244",
   "metadata": {},
   "outputs": [],
   "source": [
    "df = pd.read_csv(\"accidents_costs.csv\")"
   ]
  },
  {
   "cell_type": "markdown",
   "id": "984cb802",
   "metadata": {},
   "source": [
    "This data file contains records of accident claims in an insurance company in a given month. It comes with information like how much is the cost of each accident (column 1), how many accident claims have been made before (column 2), the age of driver (column 3), the gender of driver with 0 refers to female and 1 refers to male in column 4, years of driving experience (column 5), the age of car (column 6), the car is parked indoor (value of 0) or outdoor (value of 1) overnight in column 7, the mileage of the car (column 8), and the number of tickets being issued before on driving offence (last column)."
   ]
  },
  {
   "cell_type": "code",
   "execution_count": 3,
   "id": "f52b8983",
   "metadata": {
    "scrolled": true
   },
   "outputs": [
    {
     "data": {
      "text/plain": [
       "(498, 9)"
      ]
     },
     "execution_count": 3,
     "metadata": {},
     "output_type": "execute_result"
    }
   ],
   "source": [
    "df.shape"
   ]
  },
  {
   "cell_type": "code",
   "execution_count": 4,
   "id": "9f3379c9",
   "metadata": {},
   "outputs": [
    {
     "data": {
      "text/html": [
       "<div>\n",
       "<style scoped>\n",
       "    .dataframe tbody tr th:only-of-type {\n",
       "        vertical-align: middle;\n",
       "    }\n",
       "\n",
       "    .dataframe tbody tr th {\n",
       "        vertical-align: top;\n",
       "    }\n",
       "\n",
       "    .dataframe thead th {\n",
       "        text-align: right;\n",
       "    }\n",
       "</style>\n",
       "<table border=\"1\" class=\"dataframe\">\n",
       "  <thead>\n",
       "    <tr style=\"text-align: right;\">\n",
       "      <th></th>\n",
       "      <th>accident_cost</th>\n",
       "      <th>num_claims</th>\n",
       "      <th>driver_age</th>\n",
       "      <th>gender</th>\n",
       "      <th>years_driving_exp</th>\n",
       "      <th>car_age</th>\n",
       "      <th>parking_indoor_outdoor</th>\n",
       "      <th>mileage</th>\n",
       "      <th>num_tickets_issued</th>\n",
       "    </tr>\n",
       "  </thead>\n",
       "  <tbody>\n",
       "    <tr>\n",
       "      <th>count</th>\n",
       "      <td>497.000000</td>\n",
       "      <td>498.000000</td>\n",
       "      <td>494.000000</td>\n",
       "      <td>497.000000</td>\n",
       "      <td>498.000000</td>\n",
       "      <td>498.000000</td>\n",
       "      <td>497.000000</td>\n",
       "      <td>496.000000</td>\n",
       "      <td>497.000000</td>\n",
       "    </tr>\n",
       "    <tr>\n",
       "      <th>mean</th>\n",
       "      <td>2920.745674</td>\n",
       "      <td>1.461847</td>\n",
       "      <td>26.985830</td>\n",
       "      <td>0.537223</td>\n",
       "      <td>6.475904</td>\n",
       "      <td>8.937751</td>\n",
       "      <td>0.762575</td>\n",
       "      <td>8368.745968</td>\n",
       "      <td>2.468813</td>\n",
       "    </tr>\n",
       "    <tr>\n",
       "      <th>std</th>\n",
       "      <td>7042.462564</td>\n",
       "      <td>0.587898</td>\n",
       "      <td>3.256107</td>\n",
       "      <td>0.499115</td>\n",
       "      <td>3.017791</td>\n",
       "      <td>4.133358</td>\n",
       "      <td>0.425933</td>\n",
       "      <td>4526.458002</td>\n",
       "      <td>1.723747</td>\n",
       "    </tr>\n",
       "    <tr>\n",
       "      <th>min</th>\n",
       "      <td>17.800000</td>\n",
       "      <td>1.000000</td>\n",
       "      <td>21.000000</td>\n",
       "      <td>0.000000</td>\n",
       "      <td>2.000000</td>\n",
       "      <td>2.000000</td>\n",
       "      <td>0.000000</td>\n",
       "      <td>1220.000000</td>\n",
       "      <td>0.000000</td>\n",
       "    </tr>\n",
       "    <tr>\n",
       "      <th>25%</th>\n",
       "      <td>457.800000</td>\n",
       "      <td>1.000000</td>\n",
       "      <td>24.000000</td>\n",
       "      <td>0.000000</td>\n",
       "      <td>4.000000</td>\n",
       "      <td>6.000000</td>\n",
       "      <td>1.000000</td>\n",
       "      <td>5218.250000</td>\n",
       "      <td>1.000000</td>\n",
       "    </tr>\n",
       "    <tr>\n",
       "      <th>50%</th>\n",
       "      <td>1119.400000</td>\n",
       "      <td>1.000000</td>\n",
       "      <td>27.000000</td>\n",
       "      <td>1.000000</td>\n",
       "      <td>6.000000</td>\n",
       "      <td>8.000000</td>\n",
       "      <td>1.000000</td>\n",
       "      <td>7534.000000</td>\n",
       "      <td>3.000000</td>\n",
       "    </tr>\n",
       "    <tr>\n",
       "      <th>75%</th>\n",
       "      <td>3116.200000</td>\n",
       "      <td>2.000000</td>\n",
       "      <td>30.000000</td>\n",
       "      <td>1.000000</td>\n",
       "      <td>8.000000</td>\n",
       "      <td>11.000000</td>\n",
       "      <td>1.000000</td>\n",
       "      <td>10744.250000</td>\n",
       "      <td>4.000000</td>\n",
       "    </tr>\n",
       "    <tr>\n",
       "      <th>max</th>\n",
       "      <td>130870.400000</td>\n",
       "      <td>4.000000</td>\n",
       "      <td>34.000000</td>\n",
       "      <td>1.000000</td>\n",
       "      <td>27.000000</td>\n",
       "      <td>20.000000</td>\n",
       "      <td>1.000000</td>\n",
       "      <td>35105.000000</td>\n",
       "      <td>5.000000</td>\n",
       "    </tr>\n",
       "  </tbody>\n",
       "</table>\n",
       "</div>"
      ],
      "text/plain": [
       "       accident_cost  num_claims  driver_age      gender  years_driving_exp  \\\n",
       "count     497.000000  498.000000  494.000000  497.000000         498.000000   \n",
       "mean     2920.745674    1.461847   26.985830    0.537223           6.475904   \n",
       "std      7042.462564    0.587898    3.256107    0.499115           3.017791   \n",
       "min        17.800000    1.000000   21.000000    0.000000           2.000000   \n",
       "25%       457.800000    1.000000   24.000000    0.000000           4.000000   \n",
       "50%      1119.400000    1.000000   27.000000    1.000000           6.000000   \n",
       "75%      3116.200000    2.000000   30.000000    1.000000           8.000000   \n",
       "max    130870.400000    4.000000   34.000000    1.000000          27.000000   \n",
       "\n",
       "          car_age  parking_indoor_outdoor       mileage  num_tickets_issued  \n",
       "count  498.000000              497.000000    496.000000          497.000000  \n",
       "mean     8.937751                0.762575   8368.745968            2.468813  \n",
       "std      4.133358                0.425933   4526.458002            1.723747  \n",
       "min      2.000000                0.000000   1220.000000            0.000000  \n",
       "25%      6.000000                1.000000   5218.250000            1.000000  \n",
       "50%      8.000000                1.000000   7534.000000            3.000000  \n",
       "75%     11.000000                1.000000  10744.250000            4.000000  \n",
       "max     20.000000                1.000000  35105.000000            5.000000  "
      ]
     },
     "execution_count": 4,
     "metadata": {},
     "output_type": "execute_result"
    }
   ],
   "source": [
    "df.describe()"
   ]
  },
  {
   "cell_type": "code",
   "execution_count": 5,
   "id": "576b56cb",
   "metadata": {},
   "outputs": [
    {
     "data": {
      "text/html": [
       "<div>\n",
       "<style scoped>\n",
       "    .dataframe tbody tr th:only-of-type {\n",
       "        vertical-align: middle;\n",
       "    }\n",
       "\n",
       "    .dataframe tbody tr th {\n",
       "        vertical-align: top;\n",
       "    }\n",
       "\n",
       "    .dataframe thead th {\n",
       "        text-align: right;\n",
       "    }\n",
       "</style>\n",
       "<table border=\"1\" class=\"dataframe\">\n",
       "  <thead>\n",
       "    <tr style=\"text-align: right;\">\n",
       "      <th></th>\n",
       "      <th>accident_cost</th>\n",
       "      <th>num_claims</th>\n",
       "      <th>driver_age</th>\n",
       "      <th>gender</th>\n",
       "      <th>years_driving_exp</th>\n",
       "      <th>car_age</th>\n",
       "      <th>parking_indoor_outdoor</th>\n",
       "      <th>mileage</th>\n",
       "      <th>num_tickets_issued</th>\n",
       "    </tr>\n",
       "  </thead>\n",
       "  <tbody>\n",
       "    <tr>\n",
       "      <th>0</th>\n",
       "      <td>310.0</td>\n",
       "      <td>1</td>\n",
       "      <td>24.0</td>\n",
       "      <td>0.0</td>\n",
       "      <td>5</td>\n",
       "      <td>20</td>\n",
       "      <td>0.0</td>\n",
       "      <td>3589.0</td>\n",
       "      <td>4.0</td>\n",
       "    </tr>\n",
       "    <tr>\n",
       "      <th>1</th>\n",
       "      <td>499.4</td>\n",
       "      <td>1</td>\n",
       "      <td>23.0</td>\n",
       "      <td>0.0</td>\n",
       "      <td>4</td>\n",
       "      <td>20</td>\n",
       "      <td>1.0</td>\n",
       "      <td>2834.0</td>\n",
       "      <td>5.0</td>\n",
       "    </tr>\n",
       "    <tr>\n",
       "      <th>2</th>\n",
       "      <td>1711.7</td>\n",
       "      <td>2</td>\n",
       "      <td>28.0</td>\n",
       "      <td>0.0</td>\n",
       "      <td>7</td>\n",
       "      <td>20</td>\n",
       "      <td>1.0</td>\n",
       "      <td>10306.0</td>\n",
       "      <td>5.0</td>\n",
       "    </tr>\n",
       "    <tr>\n",
       "      <th>3</th>\n",
       "      <td>1863.8</td>\n",
       "      <td>2</td>\n",
       "      <td>30.0</td>\n",
       "      <td>0.0</td>\n",
       "      <td>5</td>\n",
       "      <td>20</td>\n",
       "      <td>1.0</td>\n",
       "      <td>5233.0</td>\n",
       "      <td>5.0</td>\n",
       "    </tr>\n",
       "    <tr>\n",
       "      <th>4</th>\n",
       "      <td>4318.0</td>\n",
       "      <td>2</td>\n",
       "      <td>22.0</td>\n",
       "      <td>0.0</td>\n",
       "      <td>3</td>\n",
       "      <td>20</td>\n",
       "      <td>0.0</td>\n",
       "      <td>1598.0</td>\n",
       "      <td>3.0</td>\n",
       "    </tr>\n",
       "  </tbody>\n",
       "</table>\n",
       "</div>"
      ],
      "text/plain": [
       "   accident_cost  num_claims  driver_age  gender  years_driving_exp  car_age  \\\n",
       "0          310.0           1        24.0     0.0                  5       20   \n",
       "1          499.4           1        23.0     0.0                  4       20   \n",
       "2         1711.7           2        28.0     0.0                  7       20   \n",
       "3         1863.8           2        30.0     0.0                  5       20   \n",
       "4         4318.0           2        22.0     0.0                  3       20   \n",
       "\n",
       "   parking_indoor_outdoor  mileage  num_tickets_issued  \n",
       "0                     0.0   3589.0                 4.0  \n",
       "1                     1.0   2834.0                 5.0  \n",
       "2                     1.0  10306.0                 5.0  \n",
       "3                     1.0   5233.0                 5.0  \n",
       "4                     0.0   1598.0                 3.0  "
      ]
     },
     "execution_count": 5,
     "metadata": {},
     "output_type": "execute_result"
    }
   ],
   "source": [
    "df.head()"
   ]
  },
  {
   "cell_type": "code",
   "execution_count": 6,
   "id": "e35892e7",
   "metadata": {},
   "outputs": [
    {
     "data": {
      "text/html": [
       "<div>\n",
       "<style scoped>\n",
       "    .dataframe tbody tr th:only-of-type {\n",
       "        vertical-align: middle;\n",
       "    }\n",
       "\n",
       "    .dataframe tbody tr th {\n",
       "        vertical-align: top;\n",
       "    }\n",
       "\n",
       "    .dataframe thead th {\n",
       "        text-align: right;\n",
       "    }\n",
       "</style>\n",
       "<table border=\"1\" class=\"dataframe\">\n",
       "  <thead>\n",
       "    <tr style=\"text-align: right;\">\n",
       "      <th></th>\n",
       "      <th>accident_cost</th>\n",
       "      <th>num_claims</th>\n",
       "      <th>driver_age</th>\n",
       "      <th>gender</th>\n",
       "      <th>years_driving_exp</th>\n",
       "      <th>car_age</th>\n",
       "      <th>parking_indoor_outdoor</th>\n",
       "      <th>mileage</th>\n",
       "      <th>num_tickets_issued</th>\n",
       "    </tr>\n",
       "  </thead>\n",
       "  <tbody>\n",
       "    <tr>\n",
       "      <th>20</th>\n",
       "      <td>924.6</td>\n",
       "      <td>1</td>\n",
       "      <td>25.0</td>\n",
       "      <td>0.0</td>\n",
       "      <td>6</td>\n",
       "      <td>17</td>\n",
       "      <td>0.0</td>\n",
       "      <td>5478.0</td>\n",
       "      <td>4.0</td>\n",
       "    </tr>\n",
       "    <tr>\n",
       "      <th>346</th>\n",
       "      <td>29139.5</td>\n",
       "      <td>2</td>\n",
       "      <td>31.0</td>\n",
       "      <td>1.0</td>\n",
       "      <td>13</td>\n",
       "      <td>10</td>\n",
       "      <td>1.0</td>\n",
       "      <td>6067.0</td>\n",
       "      <td>4.0</td>\n",
       "    </tr>\n",
       "    <tr>\n",
       "      <th>375</th>\n",
       "      <td>1861.3</td>\n",
       "      <td>2</td>\n",
       "      <td>26.0</td>\n",
       "      <td>1.0</td>\n",
       "      <td>5</td>\n",
       "      <td>8</td>\n",
       "      <td>1.0</td>\n",
       "      <td>6642.0</td>\n",
       "      <td>4.0</td>\n",
       "    </tr>\n",
       "    <tr>\n",
       "      <th>494</th>\n",
       "      <td>2871.7</td>\n",
       "      <td>2</td>\n",
       "      <td>26.0</td>\n",
       "      <td>1.0</td>\n",
       "      <td>8</td>\n",
       "      <td>3</td>\n",
       "      <td>1.0</td>\n",
       "      <td>12143.0</td>\n",
       "      <td>3.0</td>\n",
       "    </tr>\n",
       "  </tbody>\n",
       "</table>\n",
       "</div>"
      ],
      "text/plain": [
       "     accident_cost  num_claims  driver_age  gender  years_driving_exp  \\\n",
       "20           924.6           1        25.0     0.0                  6   \n",
       "346        29139.5           2        31.0     1.0                 13   \n",
       "375         1861.3           2        26.0     1.0                  5   \n",
       "494         2871.7           2        26.0     1.0                  8   \n",
       "\n",
       "     car_age  parking_indoor_outdoor  mileage  num_tickets_issued  \n",
       "20        17                     0.0   5478.0                 4.0  \n",
       "346       10                     1.0   6067.0                 4.0  \n",
       "375        8                     1.0   6642.0                 4.0  \n",
       "494        3                     1.0  12143.0                 3.0  "
      ]
     },
     "execution_count": 6,
     "metadata": {},
     "output_type": "execute_result"
    }
   ],
   "source": [
    "df[df.duplicated()] #4 rows"
   ]
  },
  {
   "cell_type": "markdown",
   "id": "1ffc02a7",
   "metadata": {},
   "source": [
    "All duplicated entries will be dropped. Duplicated data will skew the data set. "
   ]
  },
  {
   "cell_type": "code",
   "execution_count": 7,
   "id": "111894d6",
   "metadata": {},
   "outputs": [],
   "source": [
    "df.drop_duplicates(keep='last',inplace=True)"
   ]
  },
  {
   "cell_type": "code",
   "execution_count": 8,
   "id": "b3c944f2",
   "metadata": {
    "scrolled": true
   },
   "outputs": [
    {
     "data": {
      "text/html": [
       "<div>\n",
       "<style scoped>\n",
       "    .dataframe tbody tr th:only-of-type {\n",
       "        vertical-align: middle;\n",
       "    }\n",
       "\n",
       "    .dataframe tbody tr th {\n",
       "        vertical-align: top;\n",
       "    }\n",
       "\n",
       "    .dataframe thead th {\n",
       "        text-align: right;\n",
       "    }\n",
       "</style>\n",
       "<table border=\"1\" class=\"dataframe\">\n",
       "  <thead>\n",
       "    <tr style=\"text-align: right;\">\n",
       "      <th></th>\n",
       "      <th>accident_cost</th>\n",
       "      <th>num_claims</th>\n",
       "      <th>driver_age</th>\n",
       "      <th>gender</th>\n",
       "      <th>years_driving_exp</th>\n",
       "      <th>car_age</th>\n",
       "      <th>parking_indoor_outdoor</th>\n",
       "      <th>mileage</th>\n",
       "      <th>num_tickets_issued</th>\n",
       "    </tr>\n",
       "  </thead>\n",
       "  <tbody>\n",
       "    <tr>\n",
       "      <th>0</th>\n",
       "      <td>310.0</td>\n",
       "      <td>1</td>\n",
       "      <td>24.0</td>\n",
       "      <td>0.0</td>\n",
       "      <td>5</td>\n",
       "      <td>20</td>\n",
       "      <td>0.0</td>\n",
       "      <td>3589.0</td>\n",
       "      <td>4.0</td>\n",
       "    </tr>\n",
       "    <tr>\n",
       "      <th>1</th>\n",
       "      <td>499.4</td>\n",
       "      <td>1</td>\n",
       "      <td>23.0</td>\n",
       "      <td>0.0</td>\n",
       "      <td>4</td>\n",
       "      <td>20</td>\n",
       "      <td>1.0</td>\n",
       "      <td>2834.0</td>\n",
       "      <td>5.0</td>\n",
       "    </tr>\n",
       "    <tr>\n",
       "      <th>2</th>\n",
       "      <td>1711.7</td>\n",
       "      <td>2</td>\n",
       "      <td>28.0</td>\n",
       "      <td>0.0</td>\n",
       "      <td>7</td>\n",
       "      <td>20</td>\n",
       "      <td>1.0</td>\n",
       "      <td>10306.0</td>\n",
       "      <td>5.0</td>\n",
       "    </tr>\n",
       "    <tr>\n",
       "      <th>3</th>\n",
       "      <td>1863.8</td>\n",
       "      <td>2</td>\n",
       "      <td>30.0</td>\n",
       "      <td>0.0</td>\n",
       "      <td>5</td>\n",
       "      <td>20</td>\n",
       "      <td>1.0</td>\n",
       "      <td>5233.0</td>\n",
       "      <td>5.0</td>\n",
       "    </tr>\n",
       "    <tr>\n",
       "      <th>4</th>\n",
       "      <td>4318.0</td>\n",
       "      <td>2</td>\n",
       "      <td>22.0</td>\n",
       "      <td>0.0</td>\n",
       "      <td>3</td>\n",
       "      <td>20</td>\n",
       "      <td>0.0</td>\n",
       "      <td>1598.0</td>\n",
       "      <td>3.0</td>\n",
       "    </tr>\n",
       "    <tr>\n",
       "      <th>...</th>\n",
       "      <td>...</td>\n",
       "      <td>...</td>\n",
       "      <td>...</td>\n",
       "      <td>...</td>\n",
       "      <td>...</td>\n",
       "      <td>...</td>\n",
       "      <td>...</td>\n",
       "      <td>...</td>\n",
       "      <td>...</td>\n",
       "    </tr>\n",
       "    <tr>\n",
       "      <th>493</th>\n",
       "      <td>5882.0</td>\n",
       "      <td>2</td>\n",
       "      <td>32.0</td>\n",
       "      <td>1.0</td>\n",
       "      <td>14</td>\n",
       "      <td>3</td>\n",
       "      <td>1.0</td>\n",
       "      <td>21994.0</td>\n",
       "      <td>1.0</td>\n",
       "    </tr>\n",
       "    <tr>\n",
       "      <th>494</th>\n",
       "      <td>2871.7</td>\n",
       "      <td>2</td>\n",
       "      <td>26.0</td>\n",
       "      <td>1.0</td>\n",
       "      <td>8</td>\n",
       "      <td>3</td>\n",
       "      <td>1.0</td>\n",
       "      <td>12143.0</td>\n",
       "      <td>3.0</td>\n",
       "    </tr>\n",
       "    <tr>\n",
       "      <th>495</th>\n",
       "      <td>26359.7</td>\n",
       "      <td>2</td>\n",
       "      <td>26.0</td>\n",
       "      <td>1.0</td>\n",
       "      <td>5</td>\n",
       "      <td>3</td>\n",
       "      <td>1.0</td>\n",
       "      <td>12927.0</td>\n",
       "      <td>1.0</td>\n",
       "    </tr>\n",
       "    <tr>\n",
       "      <th>496</th>\n",
       "      <td>293.8</td>\n",
       "      <td>1</td>\n",
       "      <td>31.0</td>\n",
       "      <td>1.0</td>\n",
       "      <td>6</td>\n",
       "      <td>3</td>\n",
       "      <td>1.0</td>\n",
       "      <td>8848.0</td>\n",
       "      <td>1.0</td>\n",
       "    </tr>\n",
       "    <tr>\n",
       "      <th>497</th>\n",
       "      <td>165.0</td>\n",
       "      <td>1</td>\n",
       "      <td>23.0</td>\n",
       "      <td>NaN</td>\n",
       "      <td>3</td>\n",
       "      <td>5</td>\n",
       "      <td>0.0</td>\n",
       "      <td>4984.0</td>\n",
       "      <td>0.0</td>\n",
       "    </tr>\n",
       "  </tbody>\n",
       "</table>\n",
       "<p>494 rows × 9 columns</p>\n",
       "</div>"
      ],
      "text/plain": [
       "     accident_cost  num_claims  driver_age  gender  years_driving_exp  \\\n",
       "0            310.0           1        24.0     0.0                  5   \n",
       "1            499.4           1        23.0     0.0                  4   \n",
       "2           1711.7           2        28.0     0.0                  7   \n",
       "3           1863.8           2        30.0     0.0                  5   \n",
       "4           4318.0           2        22.0     0.0                  3   \n",
       "..             ...         ...         ...     ...                ...   \n",
       "493         5882.0           2        32.0     1.0                 14   \n",
       "494         2871.7           2        26.0     1.0                  8   \n",
       "495        26359.7           2        26.0     1.0                  5   \n",
       "496          293.8           1        31.0     1.0                  6   \n",
       "497          165.0           1        23.0     NaN                  3   \n",
       "\n",
       "     car_age  parking_indoor_outdoor  mileage  num_tickets_issued  \n",
       "0         20                     0.0   3589.0                 4.0  \n",
       "1         20                     1.0   2834.0                 5.0  \n",
       "2         20                     1.0  10306.0                 5.0  \n",
       "3         20                     1.0   5233.0                 5.0  \n",
       "4         20                     0.0   1598.0                 3.0  \n",
       "..       ...                     ...      ...                 ...  \n",
       "493        3                     1.0  21994.0                 1.0  \n",
       "494        3                     1.0  12143.0                 3.0  \n",
       "495        3                     1.0  12927.0                 1.0  \n",
       "496        3                     1.0   8848.0                 1.0  \n",
       "497        5                     0.0   4984.0                 0.0  \n",
       "\n",
       "[494 rows x 9 columns]"
      ]
     },
     "execution_count": 8,
     "metadata": {},
     "output_type": "execute_result"
    }
   ],
   "source": [
    "df #494 rows left after 4 dropped"
   ]
  },
  {
   "cell_type": "code",
   "execution_count": 9,
   "id": "7097467d",
   "metadata": {},
   "outputs": [],
   "source": [
    "df.reset_index(drop=True,inplace=True) #drop old index, modify existing df"
   ]
  },
  {
   "cell_type": "code",
   "execution_count": 10,
   "id": "19701848",
   "metadata": {},
   "outputs": [
    {
     "data": {
      "text/html": [
       "<div>\n",
       "<style scoped>\n",
       "    .dataframe tbody tr th:only-of-type {\n",
       "        vertical-align: middle;\n",
       "    }\n",
       "\n",
       "    .dataframe tbody tr th {\n",
       "        vertical-align: top;\n",
       "    }\n",
       "\n",
       "    .dataframe thead th {\n",
       "        text-align: right;\n",
       "    }\n",
       "</style>\n",
       "<table border=\"1\" class=\"dataframe\">\n",
       "  <thead>\n",
       "    <tr style=\"text-align: right;\">\n",
       "      <th></th>\n",
       "      <th>accident_cost</th>\n",
       "      <th>num_claims</th>\n",
       "      <th>driver_age</th>\n",
       "      <th>gender</th>\n",
       "      <th>years_driving_exp</th>\n",
       "      <th>car_age</th>\n",
       "      <th>parking_indoor_outdoor</th>\n",
       "      <th>mileage</th>\n",
       "      <th>num_tickets_issued</th>\n",
       "    </tr>\n",
       "  </thead>\n",
       "  <tbody>\n",
       "    <tr>\n",
       "      <th>0</th>\n",
       "      <td>310.0</td>\n",
       "      <td>1</td>\n",
       "      <td>24.0</td>\n",
       "      <td>0.0</td>\n",
       "      <td>5</td>\n",
       "      <td>20</td>\n",
       "      <td>0.0</td>\n",
       "      <td>3589.0</td>\n",
       "      <td>4.0</td>\n",
       "    </tr>\n",
       "    <tr>\n",
       "      <th>1</th>\n",
       "      <td>499.4</td>\n",
       "      <td>1</td>\n",
       "      <td>23.0</td>\n",
       "      <td>0.0</td>\n",
       "      <td>4</td>\n",
       "      <td>20</td>\n",
       "      <td>1.0</td>\n",
       "      <td>2834.0</td>\n",
       "      <td>5.0</td>\n",
       "    </tr>\n",
       "    <tr>\n",
       "      <th>2</th>\n",
       "      <td>1711.7</td>\n",
       "      <td>2</td>\n",
       "      <td>28.0</td>\n",
       "      <td>0.0</td>\n",
       "      <td>7</td>\n",
       "      <td>20</td>\n",
       "      <td>1.0</td>\n",
       "      <td>10306.0</td>\n",
       "      <td>5.0</td>\n",
       "    </tr>\n",
       "    <tr>\n",
       "      <th>3</th>\n",
       "      <td>1863.8</td>\n",
       "      <td>2</td>\n",
       "      <td>30.0</td>\n",
       "      <td>0.0</td>\n",
       "      <td>5</td>\n",
       "      <td>20</td>\n",
       "      <td>1.0</td>\n",
       "      <td>5233.0</td>\n",
       "      <td>5.0</td>\n",
       "    </tr>\n",
       "    <tr>\n",
       "      <th>4</th>\n",
       "      <td>4318.0</td>\n",
       "      <td>2</td>\n",
       "      <td>22.0</td>\n",
       "      <td>0.0</td>\n",
       "      <td>3</td>\n",
       "      <td>20</td>\n",
       "      <td>0.0</td>\n",
       "      <td>1598.0</td>\n",
       "      <td>3.0</td>\n",
       "    </tr>\n",
       "    <tr>\n",
       "      <th>...</th>\n",
       "      <td>...</td>\n",
       "      <td>...</td>\n",
       "      <td>...</td>\n",
       "      <td>...</td>\n",
       "      <td>...</td>\n",
       "      <td>...</td>\n",
       "      <td>...</td>\n",
       "      <td>...</td>\n",
       "      <td>...</td>\n",
       "    </tr>\n",
       "    <tr>\n",
       "      <th>489</th>\n",
       "      <td>5882.0</td>\n",
       "      <td>2</td>\n",
       "      <td>32.0</td>\n",
       "      <td>1.0</td>\n",
       "      <td>14</td>\n",
       "      <td>3</td>\n",
       "      <td>1.0</td>\n",
       "      <td>21994.0</td>\n",
       "      <td>1.0</td>\n",
       "    </tr>\n",
       "    <tr>\n",
       "      <th>490</th>\n",
       "      <td>2871.7</td>\n",
       "      <td>2</td>\n",
       "      <td>26.0</td>\n",
       "      <td>1.0</td>\n",
       "      <td>8</td>\n",
       "      <td>3</td>\n",
       "      <td>1.0</td>\n",
       "      <td>12143.0</td>\n",
       "      <td>3.0</td>\n",
       "    </tr>\n",
       "    <tr>\n",
       "      <th>491</th>\n",
       "      <td>26359.7</td>\n",
       "      <td>2</td>\n",
       "      <td>26.0</td>\n",
       "      <td>1.0</td>\n",
       "      <td>5</td>\n",
       "      <td>3</td>\n",
       "      <td>1.0</td>\n",
       "      <td>12927.0</td>\n",
       "      <td>1.0</td>\n",
       "    </tr>\n",
       "    <tr>\n",
       "      <th>492</th>\n",
       "      <td>293.8</td>\n",
       "      <td>1</td>\n",
       "      <td>31.0</td>\n",
       "      <td>1.0</td>\n",
       "      <td>6</td>\n",
       "      <td>3</td>\n",
       "      <td>1.0</td>\n",
       "      <td>8848.0</td>\n",
       "      <td>1.0</td>\n",
       "    </tr>\n",
       "    <tr>\n",
       "      <th>493</th>\n",
       "      <td>165.0</td>\n",
       "      <td>1</td>\n",
       "      <td>23.0</td>\n",
       "      <td>NaN</td>\n",
       "      <td>3</td>\n",
       "      <td>5</td>\n",
       "      <td>0.0</td>\n",
       "      <td>4984.0</td>\n",
       "      <td>0.0</td>\n",
       "    </tr>\n",
       "  </tbody>\n",
       "</table>\n",
       "<p>494 rows × 9 columns</p>\n",
       "</div>"
      ],
      "text/plain": [
       "     accident_cost  num_claims  driver_age  gender  years_driving_exp  \\\n",
       "0            310.0           1        24.0     0.0                  5   \n",
       "1            499.4           1        23.0     0.0                  4   \n",
       "2           1711.7           2        28.0     0.0                  7   \n",
       "3           1863.8           2        30.0     0.0                  5   \n",
       "4           4318.0           2        22.0     0.0                  3   \n",
       "..             ...         ...         ...     ...                ...   \n",
       "489         5882.0           2        32.0     1.0                 14   \n",
       "490         2871.7           2        26.0     1.0                  8   \n",
       "491        26359.7           2        26.0     1.0                  5   \n",
       "492          293.8           1        31.0     1.0                  6   \n",
       "493          165.0           1        23.0     NaN                  3   \n",
       "\n",
       "     car_age  parking_indoor_outdoor  mileage  num_tickets_issued  \n",
       "0         20                     0.0   3589.0                 4.0  \n",
       "1         20                     1.0   2834.0                 5.0  \n",
       "2         20                     1.0  10306.0                 5.0  \n",
       "3         20                     1.0   5233.0                 5.0  \n",
       "4         20                     0.0   1598.0                 3.0  \n",
       "..       ...                     ...      ...                 ...  \n",
       "489        3                     1.0  21994.0                 1.0  \n",
       "490        3                     1.0  12143.0                 3.0  \n",
       "491        3                     1.0  12927.0                 1.0  \n",
       "492        3                     1.0   8848.0                 1.0  \n",
       "493        5                     0.0   4984.0                 0.0  \n",
       "\n",
       "[494 rows x 9 columns]"
      ]
     },
     "execution_count": 10,
     "metadata": {},
     "output_type": "execute_result"
    }
   ],
   "source": [
    "df"
   ]
  },
  {
   "cell_type": "code",
   "execution_count": 11,
   "id": "baa456b1",
   "metadata": {
    "scrolled": true
   },
   "outputs": [
    {
     "data": {
      "text/plain": [
       "accident_cost             1\n",
       "num_claims                0\n",
       "driver_age                4\n",
       "gender                    1\n",
       "years_driving_exp         0\n",
       "car_age                   0\n",
       "parking_indoor_outdoor    1\n",
       "mileage                   2\n",
       "num_tickets_issued        1\n",
       "dtype: int64"
      ]
     },
     "execution_count": 11,
     "metadata": {},
     "output_type": "execute_result"
    }
   ],
   "source": [
    "df.isnull().sum()"
   ]
  },
  {
   "cell_type": "code",
   "execution_count": 12,
   "id": "e5bff496",
   "metadata": {
    "scrolled": true
   },
   "outputs": [
    {
     "data": {
      "text/html": [
       "<div>\n",
       "<style scoped>\n",
       "    .dataframe tbody tr th:only-of-type {\n",
       "        vertical-align: middle;\n",
       "    }\n",
       "\n",
       "    .dataframe tbody tr th {\n",
       "        vertical-align: top;\n",
       "    }\n",
       "\n",
       "    .dataframe thead th {\n",
       "        text-align: right;\n",
       "    }\n",
       "</style>\n",
       "<table border=\"1\" class=\"dataframe\">\n",
       "  <thead>\n",
       "    <tr style=\"text-align: right;\">\n",
       "      <th></th>\n",
       "      <th>accident_cost</th>\n",
       "      <th>num_claims</th>\n",
       "      <th>driver_age</th>\n",
       "      <th>gender</th>\n",
       "      <th>years_driving_exp</th>\n",
       "      <th>car_age</th>\n",
       "      <th>parking_indoor_outdoor</th>\n",
       "      <th>mileage</th>\n",
       "      <th>num_tickets_issued</th>\n",
       "    </tr>\n",
       "  </thead>\n",
       "  <tbody>\n",
       "  </tbody>\n",
       "</table>\n",
       "</div>"
      ],
      "text/plain": [
       "Empty DataFrame\n",
       "Columns: [accident_cost, num_claims, driver_age, gender, years_driving_exp, car_age, parking_indoor_outdoor, mileage, num_tickets_issued]\n",
       "Index: []"
      ]
     },
     "execution_count": 12,
     "metadata": {},
     "output_type": "execute_result"
    }
   ],
   "source": [
    "df[df.accident_cost < 0]"
   ]
  },
  {
   "cell_type": "code",
   "execution_count": 17,
   "id": "cc882b78",
   "metadata": {
    "scrolled": false
   },
   "outputs": [
    {
     "data": {
      "image/png": "[encoded data removed]",
      "text/plain": [
       "<Figure size 360x360 with 1 Axes>"
      ]
     },
     "metadata": {
      "needs_background": "light"
     },
     "output_type": "display_data"
    }
   ],
   "source": [
    "sns.displot(df.accident_cost,binwidth=5000,kde=True)\n",
    "plt.show()"
   ]
  },
  {
   "cell_type": "markdown",
   "id": "ceabd453",
   "metadata": {},
   "source": [
    "Distribution curve plot of accident cost shows a left skewed data distribution. There exist extreme data points in the series which would skew the mean. As such, we will use the median instead to impute missing values. Using median here will help negate the effects of outliers."
   ]
  },
  {
   "cell_type": "code",
   "execution_count": 18,
   "id": "f1fd19f0",
   "metadata": {},
   "outputs": [],
   "source": [
    "df.accident_cost.fillna(df.accident_cost.median(),inplace=True)"
   ]
  },
  {
   "cell_type": "code",
   "execution_count": 19,
   "id": "d2047d08",
   "metadata": {},
   "outputs": [
    {
     "data": {
      "text/plain": [
       "1    290\n",
       "2    182\n",
       "3     21\n",
       "4      1\n",
       "Name: num_claims, dtype: int64"
      ]
     },
     "execution_count": 19,
     "metadata": {},
     "output_type": "execute_result"
    }
   ],
   "source": [
    "df.num_claims.value_counts(dropna=False)"
   ]
  },
  {
   "cell_type": "code",
   "execution_count": 20,
   "id": "fc41d2fa",
   "metadata": {
    "scrolled": true
   },
   "outputs": [
    {
     "data": {
      "text/plain": [
       "21.0    17\n",
       "22.0    21\n",
       "23.0    42\n",
       "24.0    45\n",
       "25.0    57\n",
       "26.0    53\n",
       "27.0    51\n",
       "28.0    39\n",
       "29.0    31\n",
       "30.0    35\n",
       "31.0    47\n",
       "32.0    38\n",
       "33.0    12\n",
       "34.0     2\n",
       "NaN      4\n",
       "Name: driver_age, dtype: int64"
      ]
     },
     "execution_count": 20,
     "metadata": {},
     "output_type": "execute_result"
    }
   ],
   "source": [
    "df.driver_age.value_counts(dropna=False).sort_index()"
   ]
  },
  {
   "cell_type": "code",
   "execution_count": 22,
   "id": "4f8e8c0c",
   "metadata": {},
   "outputs": [
    {
     "data": {
      "image/png": "[encoded data removed]",
      "text/plain": [
       "<Figure size 360x360 with 1 Axes>"
      ]
     },
     "metadata": {
      "needs_background": "light"
     },
     "output_type": "display_data"
    }
   ],
   "source": [
    "sns.displot(df.driver_age,binwidth=1, kde=True)\n",
    "plt.show()"
   ]
  },
  {
   "cell_type": "markdown",
   "id": "d4dcec6f",
   "metadata": {},
   "source": [
    "Distribution curve plot of driver age shows a bimodal distribution, where the data seems to be occur at two occurance more often. There does not exist extreme data points in the series which would skew the mean. Even though the graph might not resemble a normal distribution curve, we will use mean to impute missing values."
   ]
  },
  {
   "cell_type": "code",
   "execution_count": 23,
   "id": "9573a8f7",
   "metadata": {},
   "outputs": [],
   "source": [
    "df.driver_age.fillna(round(df.driver_age.mean()),inplace=True)"
   ]
  },
  {
   "cell_type": "code",
   "execution_count": 24,
   "id": "e0addfb1",
   "metadata": {
    "scrolled": true
   },
   "outputs": [
    {
     "data": {
      "text/plain": [
       "21.0    17\n",
       "22.0    21\n",
       "23.0    42\n",
       "24.0    45\n",
       "25.0    57\n",
       "26.0    53\n",
       "27.0    55\n",
       "28.0    39\n",
       "29.0    31\n",
       "30.0    35\n",
       "31.0    47\n",
       "32.0    38\n",
       "33.0    12\n",
       "34.0     2\n",
       "Name: driver_age, dtype: int64"
      ]
     },
     "execution_count": 24,
     "metadata": {},
     "output_type": "execute_result"
    }
   ],
   "source": [
    "df.driver_age.value_counts(dropna=False).sort_index()"
   ]
  },
  {
   "cell_type": "code",
   "execution_count": 25,
   "id": "3387cfe3",
   "metadata": {},
   "outputs": [
    {
     "data": {
      "image/png": "[encoded data removed]",
      "text/plain": [
       "<Figure size 432x288 with 1 Axes>"
      ]
     },
     "metadata": {},
     "output_type": "display_data"
    }
   ],
   "source": [
    "plt.pie(df.gender.value_counts(dropna=False),autopct='%1.1f%%',labels=['0','1','NaN'])\n",
    "plt.show()"
   ]
  },
  {
   "cell_type": "markdown",
   "id": "7d2f171e",
   "metadata": {},
   "source": [
    "The series of gender holds categorical data. Imputation of the data will skew the results in favour of one category over another, resulting in bias. Given the small magnitude of the error, at 0.2% of the dataset, we choose to drop this row from the dataset. "
   ]
  },
  {
   "cell_type": "code",
   "execution_count": 26,
   "id": "c5d6d40f",
   "metadata": {},
   "outputs": [],
   "source": [
    "df.dropna(subset='gender',inplace=True)"
   ]
  },
  {
   "cell_type": "code",
   "execution_count": 27,
   "id": "3cfc2a17",
   "metadata": {},
   "outputs": [
    {
     "data": {
      "text/html": [
       "<div>\n",
       "<style scoped>\n",
       "    .dataframe tbody tr th:only-of-type {\n",
       "        vertical-align: middle;\n",
       "    }\n",
       "\n",
       "    .dataframe tbody tr th {\n",
       "        vertical-align: top;\n",
       "    }\n",
       "\n",
       "    .dataframe thead th {\n",
       "        text-align: right;\n",
       "    }\n",
       "</style>\n",
       "<table border=\"1\" class=\"dataframe\">\n",
       "  <thead>\n",
       "    <tr style=\"text-align: right;\">\n",
       "      <th></th>\n",
       "      <th>accident_cost</th>\n",
       "      <th>num_claims</th>\n",
       "      <th>driver_age</th>\n",
       "      <th>gender</th>\n",
       "      <th>years_driving_exp</th>\n",
       "      <th>car_age</th>\n",
       "      <th>parking_indoor_outdoor</th>\n",
       "      <th>mileage</th>\n",
       "      <th>num_tickets_issued</th>\n",
       "    </tr>\n",
       "  </thead>\n",
       "  <tbody>\n",
       "    <tr>\n",
       "      <th>0</th>\n",
       "      <td>310.0</td>\n",
       "      <td>1</td>\n",
       "      <td>24.0</td>\n",
       "      <td>0.0</td>\n",
       "      <td>5</td>\n",
       "      <td>20</td>\n",
       "      <td>0.0</td>\n",
       "      <td>3589.0</td>\n",
       "      <td>4.0</td>\n",
       "    </tr>\n",
       "    <tr>\n",
       "      <th>1</th>\n",
       "      <td>499.4</td>\n",
       "      <td>1</td>\n",
       "      <td>23.0</td>\n",
       "      <td>0.0</td>\n",
       "      <td>4</td>\n",
       "      <td>20</td>\n",
       "      <td>1.0</td>\n",
       "      <td>2834.0</td>\n",
       "      <td>5.0</td>\n",
       "    </tr>\n",
       "    <tr>\n",
       "      <th>2</th>\n",
       "      <td>1711.7</td>\n",
       "      <td>2</td>\n",
       "      <td>28.0</td>\n",
       "      <td>0.0</td>\n",
       "      <td>7</td>\n",
       "      <td>20</td>\n",
       "      <td>1.0</td>\n",
       "      <td>10306.0</td>\n",
       "      <td>5.0</td>\n",
       "    </tr>\n",
       "    <tr>\n",
       "      <th>3</th>\n",
       "      <td>1863.8</td>\n",
       "      <td>2</td>\n",
       "      <td>30.0</td>\n",
       "      <td>0.0</td>\n",
       "      <td>5</td>\n",
       "      <td>20</td>\n",
       "      <td>1.0</td>\n",
       "      <td>5233.0</td>\n",
       "      <td>5.0</td>\n",
       "    </tr>\n",
       "    <tr>\n",
       "      <th>4</th>\n",
       "      <td>4318.0</td>\n",
       "      <td>2</td>\n",
       "      <td>22.0</td>\n",
       "      <td>0.0</td>\n",
       "      <td>3</td>\n",
       "      <td>20</td>\n",
       "      <td>0.0</td>\n",
       "      <td>1598.0</td>\n",
       "      <td>3.0</td>\n",
       "    </tr>\n",
       "    <tr>\n",
       "      <th>...</th>\n",
       "      <td>...</td>\n",
       "      <td>...</td>\n",
       "      <td>...</td>\n",
       "      <td>...</td>\n",
       "      <td>...</td>\n",
       "      <td>...</td>\n",
       "      <td>...</td>\n",
       "      <td>...</td>\n",
       "      <td>...</td>\n",
       "    </tr>\n",
       "    <tr>\n",
       "      <th>488</th>\n",
       "      <td>2294.1</td>\n",
       "      <td>1</td>\n",
       "      <td>32.0</td>\n",
       "      <td>1.0</td>\n",
       "      <td>3</td>\n",
       "      <td>3</td>\n",
       "      <td>0.0</td>\n",
       "      <td>16449.0</td>\n",
       "      <td>5.0</td>\n",
       "    </tr>\n",
       "    <tr>\n",
       "      <th>489</th>\n",
       "      <td>5882.0</td>\n",
       "      <td>2</td>\n",
       "      <td>32.0</td>\n",
       "      <td>1.0</td>\n",
       "      <td>14</td>\n",
       "      <td>3</td>\n",
       "      <td>1.0</td>\n",
       "      <td>21994.0</td>\n",
       "      <td>1.0</td>\n",
       "    </tr>\n",
       "    <tr>\n",
       "      <th>490</th>\n",
       "      <td>2871.7</td>\n",
       "      <td>2</td>\n",
       "      <td>26.0</td>\n",
       "      <td>1.0</td>\n",
       "      <td>8</td>\n",
       "      <td>3</td>\n",
       "      <td>1.0</td>\n",
       "      <td>12143.0</td>\n",
       "      <td>3.0</td>\n",
       "    </tr>\n",
       "    <tr>\n",
       "      <th>491</th>\n",
       "      <td>26359.7</td>\n",
       "      <td>2</td>\n",
       "      <td>26.0</td>\n",
       "      <td>1.0</td>\n",
       "      <td>5</td>\n",
       "      <td>3</td>\n",
       "      <td>1.0</td>\n",
       "      <td>12927.0</td>\n",
       "      <td>1.0</td>\n",
       "    </tr>\n",
       "    <tr>\n",
       "      <th>492</th>\n",
       "      <td>293.8</td>\n",
       "      <td>1</td>\n",
       "      <td>31.0</td>\n",
       "      <td>1.0</td>\n",
       "      <td>6</td>\n",
       "      <td>3</td>\n",
       "      <td>1.0</td>\n",
       "      <td>8848.0</td>\n",
       "      <td>1.0</td>\n",
       "    </tr>\n",
       "  </tbody>\n",
       "</table>\n",
       "<p>493 rows × 9 columns</p>\n",
       "</div>"
      ],
      "text/plain": [
       "     accident_cost  num_claims  driver_age  gender  years_driving_exp  \\\n",
       "0            310.0           1        24.0     0.0                  5   \n",
       "1            499.4           1        23.0     0.0                  4   \n",
       "2           1711.7           2        28.0     0.0                  7   \n",
       "3           1863.8           2        30.0     0.0                  5   \n",
       "4           4318.0           2        22.0     0.0                  3   \n",
       "..             ...         ...         ...     ...                ...   \n",
       "488         2294.1           1        32.0     1.0                  3   \n",
       "489         5882.0           2        32.0     1.0                 14   \n",
       "490         2871.7           2        26.0     1.0                  8   \n",
       "491        26359.7           2        26.0     1.0                  5   \n",
       "492          293.8           1        31.0     1.0                  6   \n",
       "\n",
       "     car_age  parking_indoor_outdoor  mileage  num_tickets_issued  \n",
       "0         20                     0.0   3589.0                 4.0  \n",
       "1         20                     1.0   2834.0                 5.0  \n",
       "2         20                     1.0  10306.0                 5.0  \n",
       "3         20                     1.0   5233.0                 5.0  \n",
       "4         20                     0.0   1598.0                 3.0  \n",
       "..       ...                     ...      ...                 ...  \n",
       "488        3                     0.0  16449.0                 5.0  \n",
       "489        3                     1.0  21994.0                 1.0  \n",
       "490        3                     1.0  12143.0                 3.0  \n",
       "491        3                     1.0  12927.0                 1.0  \n",
       "492        3                     1.0   8848.0                 1.0  \n",
       "\n",
       "[493 rows x 9 columns]"
      ]
     },
     "execution_count": 27,
     "metadata": {},
     "output_type": "execute_result"
    }
   ],
   "source": [
    "df #rename 0 as F, 1 as M"
   ]
  },
  {
   "cell_type": "code",
   "execution_count": 28,
   "id": "7d6ec1fc",
   "metadata": {},
   "outputs": [
    {
     "data": {
      "text/html": [
       "<div>\n",
       "<style scoped>\n",
       "    .dataframe tbody tr th:only-of-type {\n",
       "        vertical-align: middle;\n",
       "    }\n",
       "\n",
       "    .dataframe tbody tr th {\n",
       "        vertical-align: top;\n",
       "    }\n",
       "\n",
       "    .dataframe thead th {\n",
       "        text-align: right;\n",
       "    }\n",
       "</style>\n",
       "<table border=\"1\" class=\"dataframe\">\n",
       "  <thead>\n",
       "    <tr style=\"text-align: right;\">\n",
       "      <th></th>\n",
       "      <th>accident_cost</th>\n",
       "      <th>num_claims</th>\n",
       "      <th>driver_age</th>\n",
       "      <th>gender</th>\n",
       "      <th>years_driving_exp</th>\n",
       "      <th>car_age</th>\n",
       "      <th>parking_indoor_outdoor</th>\n",
       "      <th>mileage</th>\n",
       "      <th>num_tickets_issued</th>\n",
       "    </tr>\n",
       "  </thead>\n",
       "  <tbody>\n",
       "    <tr>\n",
       "      <th>0</th>\n",
       "      <td>310.0</td>\n",
       "      <td>1</td>\n",
       "      <td>24.0</td>\n",
       "      <td>F</td>\n",
       "      <td>5</td>\n",
       "      <td>20</td>\n",
       "      <td>0.0</td>\n",
       "      <td>3589.0</td>\n",
       "      <td>4.0</td>\n",
       "    </tr>\n",
       "    <tr>\n",
       "      <th>1</th>\n",
       "      <td>499.4</td>\n",
       "      <td>1</td>\n",
       "      <td>23.0</td>\n",
       "      <td>F</td>\n",
       "      <td>4</td>\n",
       "      <td>20</td>\n",
       "      <td>1.0</td>\n",
       "      <td>2834.0</td>\n",
       "      <td>5.0</td>\n",
       "    </tr>\n",
       "    <tr>\n",
       "      <th>2</th>\n",
       "      <td>1711.7</td>\n",
       "      <td>2</td>\n",
       "      <td>28.0</td>\n",
       "      <td>F</td>\n",
       "      <td>7</td>\n",
       "      <td>20</td>\n",
       "      <td>1.0</td>\n",
       "      <td>10306.0</td>\n",
       "      <td>5.0</td>\n",
       "    </tr>\n",
       "    <tr>\n",
       "      <th>3</th>\n",
       "      <td>1863.8</td>\n",
       "      <td>2</td>\n",
       "      <td>30.0</td>\n",
       "      <td>F</td>\n",
       "      <td>5</td>\n",
       "      <td>20</td>\n",
       "      <td>1.0</td>\n",
       "      <td>5233.0</td>\n",
       "      <td>5.0</td>\n",
       "    </tr>\n",
       "    <tr>\n",
       "      <th>4</th>\n",
       "      <td>4318.0</td>\n",
       "      <td>2</td>\n",
       "      <td>22.0</td>\n",
       "      <td>F</td>\n",
       "      <td>3</td>\n",
       "      <td>20</td>\n",
       "      <td>0.0</td>\n",
       "      <td>1598.0</td>\n",
       "      <td>3.0</td>\n",
       "    </tr>\n",
       "    <tr>\n",
       "      <th>...</th>\n",
       "      <td>...</td>\n",
       "      <td>...</td>\n",
       "      <td>...</td>\n",
       "      <td>...</td>\n",
       "      <td>...</td>\n",
       "      <td>...</td>\n",
       "      <td>...</td>\n",
       "      <td>...</td>\n",
       "      <td>...</td>\n",
       "    </tr>\n",
       "    <tr>\n",
       "      <th>488</th>\n",
       "      <td>2294.1</td>\n",
       "      <td>1</td>\n",
       "      <td>32.0</td>\n",
       "      <td>M</td>\n",
       "      <td>3</td>\n",
       "      <td>3</td>\n",
       "      <td>0.0</td>\n",
       "      <td>16449.0</td>\n",
       "      <td>5.0</td>\n",
       "    </tr>\n",
       "    <tr>\n",
       "      <th>489</th>\n",
       "      <td>5882.0</td>\n",
       "      <td>2</td>\n",
       "      <td>32.0</td>\n",
       "      <td>M</td>\n",
       "      <td>14</td>\n",
       "      <td>3</td>\n",
       "      <td>1.0</td>\n",
       "      <td>21994.0</td>\n",
       "      <td>1.0</td>\n",
       "    </tr>\n",
       "    <tr>\n",
       "      <th>490</th>\n",
       "      <td>2871.7</td>\n",
       "      <td>2</td>\n",
       "      <td>26.0</td>\n",
       "      <td>M</td>\n",
       "      <td>8</td>\n",
       "      <td>3</td>\n",
       "      <td>1.0</td>\n",
       "      <td>12143.0</td>\n",
       "      <td>3.0</td>\n",
       "    </tr>\n",
       "    <tr>\n",
       "      <th>491</th>\n",
       "      <td>26359.7</td>\n",
       "      <td>2</td>\n",
       "      <td>26.0</td>\n",
       "      <td>M</td>\n",
       "      <td>5</td>\n",
       "      <td>3</td>\n",
       "      <td>1.0</td>\n",
       "      <td>12927.0</td>\n",
       "      <td>1.0</td>\n",
       "    </tr>\n",
       "    <tr>\n",
       "      <th>492</th>\n",
       "      <td>293.8</td>\n",
       "      <td>1</td>\n",
       "      <td>31.0</td>\n",
       "      <td>M</td>\n",
       "      <td>6</td>\n",
       "      <td>3</td>\n",
       "      <td>1.0</td>\n",
       "      <td>8848.0</td>\n",
       "      <td>1.0</td>\n",
       "    </tr>\n",
       "  </tbody>\n",
       "</table>\n",
       "<p>493 rows × 9 columns</p>\n",
       "</div>"
      ],
      "text/plain": [
       "     accident_cost  num_claims  driver_age gender  years_driving_exp  car_age  \\\n",
       "0            310.0           1        24.0      F                  5       20   \n",
       "1            499.4           1        23.0      F                  4       20   \n",
       "2           1711.7           2        28.0      F                  7       20   \n",
       "3           1863.8           2        30.0      F                  5       20   \n",
       "4           4318.0           2        22.0      F                  3       20   \n",
       "..             ...         ...         ...    ...                ...      ...   \n",
       "488         2294.1           1        32.0      M                  3        3   \n",
       "489         5882.0           2        32.0      M                 14        3   \n",
       "490         2871.7           2        26.0      M                  8        3   \n",
       "491        26359.7           2        26.0      M                  5        3   \n",
       "492          293.8           1        31.0      M                  6        3   \n",
       "\n",
       "     parking_indoor_outdoor  mileage  num_tickets_issued  \n",
       "0                       0.0   3589.0                 4.0  \n",
       "1                       1.0   2834.0                 5.0  \n",
       "2                       1.0  10306.0                 5.0  \n",
       "3                       1.0   5233.0                 5.0  \n",
       "4                       0.0   1598.0                 3.0  \n",
       "..                      ...      ...                 ...  \n",
       "488                     0.0  16449.0                 5.0  \n",
       "489                     1.0  21994.0                 1.0  \n",
       "490                     1.0  12143.0                 3.0  \n",
       "491                     1.0  12927.0                 1.0  \n",
       "492                     1.0   8848.0                 1.0  \n",
       "\n",
       "[493 rows x 9 columns]"
      ]
     },
     "execution_count": 28,
     "metadata": {},
     "output_type": "execute_result"
    }
   ],
   "source": [
    "df.gender.replace(0,\"F\",inplace=True)\n",
    "df.gender.replace(1,\"M\",inplace=True)\n",
    "df"
   ]
  },
  {
   "cell_type": "code",
   "execution_count": 29,
   "id": "55156998",
   "metadata": {
    "scrolled": true
   },
   "outputs": [
    {
     "data": {
      "text/html": [
       "<div>\n",
       "<style scoped>\n",
       "    .dataframe tbody tr th:only-of-type {\n",
       "        vertical-align: middle;\n",
       "    }\n",
       "\n",
       "    .dataframe tbody tr th {\n",
       "        vertical-align: top;\n",
       "    }\n",
       "\n",
       "    .dataframe thead th {\n",
       "        text-align: right;\n",
       "    }\n",
       "</style>\n",
       "<table border=\"1\" class=\"dataframe\">\n",
       "  <thead>\n",
       "    <tr style=\"text-align: right;\">\n",
       "      <th></th>\n",
       "      <th>accident_cost</th>\n",
       "      <th>num_claims</th>\n",
       "      <th>driver_age</th>\n",
       "      <th>gender</th>\n",
       "      <th>years_driving_exp</th>\n",
       "      <th>car_age</th>\n",
       "      <th>parking_indoor_outdoor</th>\n",
       "      <th>mileage</th>\n",
       "      <th>num_tickets_issued</th>\n",
       "    </tr>\n",
       "  </thead>\n",
       "  <tbody>\n",
       "  </tbody>\n",
       "</table>\n",
       "</div>"
      ],
      "text/plain": [
       "Empty DataFrame\n",
       "Columns: [accident_cost, num_claims, driver_age, gender, years_driving_exp, car_age, parking_indoor_outdoor, mileage, num_tickets_issued]\n",
       "Index: []"
      ]
     },
     "execution_count": 29,
     "metadata": {},
     "output_type": "execute_result"
    }
   ],
   "source": [
    "df[df.years_driving_exp < 0]"
   ]
  },
  {
   "cell_type": "code",
   "execution_count": 30,
   "id": "fa57f460",
   "metadata": {},
   "outputs": [
    {
     "data": {
      "text/plain": [
       "2     18\n",
       "3     51\n",
       "4     68\n",
       "5     81\n",
       "6     74\n",
       "7     57\n",
       "8     34\n",
       "9     30\n",
       "10    21\n",
       "11    23\n",
       "12    16\n",
       "13    11\n",
       "14     6\n",
       "15     2\n",
       "27     1\n",
       "Name: years_driving_exp, dtype: int64"
      ]
     },
     "execution_count": 30,
     "metadata": {},
     "output_type": "execute_result"
    }
   ],
   "source": [
    "df.years_driving_exp.value_counts(dropna=False).sort_index()"
   ]
  },
  {
   "cell_type": "code",
   "execution_count": 31,
   "id": "c192c42c",
   "metadata": {},
   "outputs": [
    {
     "data": {
      "text/plain": [
       "True"
      ]
     },
     "execution_count": 31,
     "metadata": {},
     "output_type": "execute_result"
    }
   ],
   "source": [
    "np.array_equal(df.years_driving_exp,df.years_driving_exp.astype(int)) #check that all values are integers"
   ]
  },
  {
   "cell_type": "markdown",
   "id": "cab5be61",
   "metadata": {},
   "source": [
    "All values in series \"years_driving_exp\" are integers (whole numbers). Data Cleaning not required."
   ]
  },
  {
   "cell_type": "code",
   "execution_count": 32,
   "id": "119625b2",
   "metadata": {},
   "outputs": [
    {
     "data": {
      "text/html": [
       "<div>\n",
       "<style scoped>\n",
       "    .dataframe tbody tr th:only-of-type {\n",
       "        vertical-align: middle;\n",
       "    }\n",
       "\n",
       "    .dataframe tbody tr th {\n",
       "        vertical-align: top;\n",
       "    }\n",
       "\n",
       "    .dataframe thead th {\n",
       "        text-align: right;\n",
       "    }\n",
       "</style>\n",
       "<table border=\"1\" class=\"dataframe\">\n",
       "  <thead>\n",
       "    <tr style=\"text-align: right;\">\n",
       "      <th></th>\n",
       "      <th>accident_cost</th>\n",
       "      <th>num_claims</th>\n",
       "      <th>driver_age</th>\n",
       "      <th>gender</th>\n",
       "      <th>years_driving_exp</th>\n",
       "      <th>car_age</th>\n",
       "      <th>parking_indoor_outdoor</th>\n",
       "      <th>mileage</th>\n",
       "      <th>num_tickets_issued</th>\n",
       "    </tr>\n",
       "  </thead>\n",
       "  <tbody>\n",
       "  </tbody>\n",
       "</table>\n",
       "</div>"
      ],
      "text/plain": [
       "Empty DataFrame\n",
       "Columns: [accident_cost, num_claims, driver_age, gender, years_driving_exp, car_age, parking_indoor_outdoor, mileage, num_tickets_issued]\n",
       "Index: []"
      ]
     },
     "execution_count": 32,
     "metadata": {},
     "output_type": "execute_result"
    }
   ],
   "source": [
    "df[df.car_age < 0]"
   ]
  },
  {
   "cell_type": "code",
   "execution_count": 33,
   "id": "b8a628f1",
   "metadata": {},
   "outputs": [
    {
     "data": {
      "text/plain": [
       "2      2\n",
       "3     20\n",
       "4     39\n",
       "5     44\n",
       "6     50\n",
       "7     70\n",
       "8     41\n",
       "9     42\n",
       "10    35\n",
       "11    35\n",
       "12     8\n",
       "13    27\n",
       "14    21\n",
       "15    25\n",
       "16     7\n",
       "17     6\n",
       "18     4\n",
       "19     5\n",
       "20    12\n",
       "Name: car_age, dtype: int64"
      ]
     },
     "execution_count": 33,
     "metadata": {},
     "output_type": "execute_result"
    }
   ],
   "source": [
    "df.car_age.value_counts(dropna=False).sort_index()"
   ]
  },
  {
   "cell_type": "code",
   "execution_count": 34,
   "id": "281d9781",
   "metadata": {},
   "outputs": [
    {
     "data": {
      "text/plain": [
       "True"
      ]
     },
     "execution_count": 34,
     "metadata": {},
     "output_type": "execute_result"
    }
   ],
   "source": [
    "np.array_equal(df.car_age,df.car_age.astype(int))"
   ]
  },
  {
   "cell_type": "markdown",
   "id": "0b03ad43",
   "metadata": {},
   "source": [
    "All values in series \"car_age\" are integers (whole numbers). Data Cleaning not required."
   ]
  },
  {
   "cell_type": "code",
   "execution_count": 35,
   "id": "fe41fdfa",
   "metadata": {},
   "outputs": [
    {
     "data": {
      "image/png": "[encoded data removed]",
      "text/plain": [
       "<Figure size 432x288 with 1 Axes>"
      ]
     },
     "metadata": {},
     "output_type": "display_data"
    }
   ],
   "source": [
    "plt.pie(df.parking_indoor_outdoor.value_counts(dropna=False),autopct='%1.1f%%',labels=['0','1','NaN'])\n",
    "plt.show()"
   ]
  },
  {
   "cell_type": "markdown",
   "id": "23e376e1",
   "metadata": {},
   "source": [
    "The series of parking_indoor_outdoor holds categorical data. Imputation of the data will skew the results in favour of one category over another, resulting in bias. Given the small magnitude of the error, at 0.2% of the dataset, we will choose to drop this row from the dataset."
   ]
  },
  {
   "cell_type": "code",
   "execution_count": 36,
   "id": "297a649e",
   "metadata": {},
   "outputs": [],
   "source": [
    "df.dropna(subset='parking_indoor_outdoor',inplace=True)"
   ]
  },
  {
   "cell_type": "code",
   "execution_count": 37,
   "id": "1052f02b",
   "metadata": {
    "scrolled": true
   },
   "outputs": [
    {
     "data": {
      "text/html": [
       "<div>\n",
       "<style scoped>\n",
       "    .dataframe tbody tr th:only-of-type {\n",
       "        vertical-align: middle;\n",
       "    }\n",
       "\n",
       "    .dataframe tbody tr th {\n",
       "        vertical-align: top;\n",
       "    }\n",
       "\n",
       "    .dataframe thead th {\n",
       "        text-align: right;\n",
       "    }\n",
       "</style>\n",
       "<table border=\"1\" class=\"dataframe\">\n",
       "  <thead>\n",
       "    <tr style=\"text-align: right;\">\n",
       "      <th></th>\n",
       "      <th>accident_cost</th>\n",
       "      <th>num_claims</th>\n",
       "      <th>driver_age</th>\n",
       "      <th>gender</th>\n",
       "      <th>years_driving_exp</th>\n",
       "      <th>car_age</th>\n",
       "      <th>parking_indoor_outdoor</th>\n",
       "      <th>mileage</th>\n",
       "      <th>num_tickets_issued</th>\n",
       "    </tr>\n",
       "  </thead>\n",
       "  <tbody>\n",
       "    <tr>\n",
       "      <th>0</th>\n",
       "      <td>310.0</td>\n",
       "      <td>1</td>\n",
       "      <td>24.0</td>\n",
       "      <td>F</td>\n",
       "      <td>5</td>\n",
       "      <td>20</td>\n",
       "      <td>0.0</td>\n",
       "      <td>3589.0</td>\n",
       "      <td>4.0</td>\n",
       "    </tr>\n",
       "    <tr>\n",
       "      <th>1</th>\n",
       "      <td>499.4</td>\n",
       "      <td>1</td>\n",
       "      <td>23.0</td>\n",
       "      <td>F</td>\n",
       "      <td>4</td>\n",
       "      <td>20</td>\n",
       "      <td>1.0</td>\n",
       "      <td>2834.0</td>\n",
       "      <td>5.0</td>\n",
       "    </tr>\n",
       "    <tr>\n",
       "      <th>2</th>\n",
       "      <td>1711.7</td>\n",
       "      <td>2</td>\n",
       "      <td>28.0</td>\n",
       "      <td>F</td>\n",
       "      <td>7</td>\n",
       "      <td>20</td>\n",
       "      <td>1.0</td>\n",
       "      <td>10306.0</td>\n",
       "      <td>5.0</td>\n",
       "    </tr>\n",
       "    <tr>\n",
       "      <th>3</th>\n",
       "      <td>1863.8</td>\n",
       "      <td>2</td>\n",
       "      <td>30.0</td>\n",
       "      <td>F</td>\n",
       "      <td>5</td>\n",
       "      <td>20</td>\n",
       "      <td>1.0</td>\n",
       "      <td>5233.0</td>\n",
       "      <td>5.0</td>\n",
       "    </tr>\n",
       "    <tr>\n",
       "      <th>4</th>\n",
       "      <td>4318.0</td>\n",
       "      <td>2</td>\n",
       "      <td>22.0</td>\n",
       "      <td>F</td>\n",
       "      <td>3</td>\n",
       "      <td>20</td>\n",
       "      <td>0.0</td>\n",
       "      <td>1598.0</td>\n",
       "      <td>3.0</td>\n",
       "    </tr>\n",
       "    <tr>\n",
       "      <th>...</th>\n",
       "      <td>...</td>\n",
       "      <td>...</td>\n",
       "      <td>...</td>\n",
       "      <td>...</td>\n",
       "      <td>...</td>\n",
       "      <td>...</td>\n",
       "      <td>...</td>\n",
       "      <td>...</td>\n",
       "      <td>...</td>\n",
       "    </tr>\n",
       "    <tr>\n",
       "      <th>488</th>\n",
       "      <td>2294.1</td>\n",
       "      <td>1</td>\n",
       "      <td>32.0</td>\n",
       "      <td>M</td>\n",
       "      <td>3</td>\n",
       "      <td>3</td>\n",
       "      <td>0.0</td>\n",
       "      <td>16449.0</td>\n",
       "      <td>5.0</td>\n",
       "    </tr>\n",
       "    <tr>\n",
       "      <th>489</th>\n",
       "      <td>5882.0</td>\n",
       "      <td>2</td>\n",
       "      <td>32.0</td>\n",
       "      <td>M</td>\n",
       "      <td>14</td>\n",
       "      <td>3</td>\n",
       "      <td>1.0</td>\n",
       "      <td>21994.0</td>\n",
       "      <td>1.0</td>\n",
       "    </tr>\n",
       "    <tr>\n",
       "      <th>490</th>\n",
       "      <td>2871.7</td>\n",
       "      <td>2</td>\n",
       "      <td>26.0</td>\n",
       "      <td>M</td>\n",
       "      <td>8</td>\n",
       "      <td>3</td>\n",
       "      <td>1.0</td>\n",
       "      <td>12143.0</td>\n",
       "      <td>3.0</td>\n",
       "    </tr>\n",
       "    <tr>\n",
       "      <th>491</th>\n",
       "      <td>26359.7</td>\n",
       "      <td>2</td>\n",
       "      <td>26.0</td>\n",
       "      <td>M</td>\n",
       "      <td>5</td>\n",
       "      <td>3</td>\n",
       "      <td>1.0</td>\n",
       "      <td>12927.0</td>\n",
       "      <td>1.0</td>\n",
       "    </tr>\n",
       "    <tr>\n",
       "      <th>492</th>\n",
       "      <td>293.8</td>\n",
       "      <td>1</td>\n",
       "      <td>31.0</td>\n",
       "      <td>M</td>\n",
       "      <td>6</td>\n",
       "      <td>3</td>\n",
       "      <td>1.0</td>\n",
       "      <td>8848.0</td>\n",
       "      <td>1.0</td>\n",
       "    </tr>\n",
       "  </tbody>\n",
       "</table>\n",
       "<p>492 rows × 9 columns</p>\n",
       "</div>"
      ],
      "text/plain": [
       "     accident_cost  num_claims  driver_age gender  years_driving_exp  car_age  \\\n",
       "0            310.0           1        24.0      F                  5       20   \n",
       "1            499.4           1        23.0      F                  4       20   \n",
       "2           1711.7           2        28.0      F                  7       20   \n",
       "3           1863.8           2        30.0      F                  5       20   \n",
       "4           4318.0           2        22.0      F                  3       20   \n",
       "..             ...         ...         ...    ...                ...      ...   \n",
       "488         2294.1           1        32.0      M                  3        3   \n",
       "489         5882.0           2        32.0      M                 14        3   \n",
       "490         2871.7           2        26.0      M                  8        3   \n",
       "491        26359.7           2        26.0      M                  5        3   \n",
       "492          293.8           1        31.0      M                  6        3   \n",
       "\n",
       "     parking_indoor_outdoor  mileage  num_tickets_issued  \n",
       "0                       0.0   3589.0                 4.0  \n",
       "1                       1.0   2834.0                 5.0  \n",
       "2                       1.0  10306.0                 5.0  \n",
       "3                       1.0   5233.0                 5.0  \n",
       "4                       0.0   1598.0                 3.0  \n",
       "..                      ...      ...                 ...  \n",
       "488                     0.0  16449.0                 5.0  \n",
       "489                     1.0  21994.0                 1.0  \n",
       "490                     1.0  12143.0                 3.0  \n",
       "491                     1.0  12927.0                 1.0  \n",
       "492                     1.0   8848.0                 1.0  \n",
       "\n",
       "[492 rows x 9 columns]"
      ]
     },
     "execution_count": 37,
     "metadata": {},
     "output_type": "execute_result"
    }
   ],
   "source": [
    "df"
   ]
  },
  {
   "cell_type": "code",
   "execution_count": 38,
   "id": "e7257a24",
   "metadata": {},
   "outputs": [
    {
     "data": {
      "text/html": [
       "<div>\n",
       "<style scoped>\n",
       "    .dataframe tbody tr th:only-of-type {\n",
       "        vertical-align: middle;\n",
       "    }\n",
       "\n",
       "    .dataframe tbody tr th {\n",
       "        vertical-align: top;\n",
       "    }\n",
       "\n",
       "    .dataframe thead th {\n",
       "        text-align: right;\n",
       "    }\n",
       "</style>\n",
       "<table border=\"1\" class=\"dataframe\">\n",
       "  <thead>\n",
       "    <tr style=\"text-align: right;\">\n",
       "      <th></th>\n",
       "      <th>accident_cost</th>\n",
       "      <th>num_claims</th>\n",
       "      <th>driver_age</th>\n",
       "      <th>gender</th>\n",
       "      <th>years_driving_exp</th>\n",
       "      <th>car_age</th>\n",
       "      <th>parking_indoor_outdoor</th>\n",
       "      <th>mileage</th>\n",
       "      <th>num_tickets_issued</th>\n",
       "    </tr>\n",
       "  </thead>\n",
       "  <tbody>\n",
       "    <tr>\n",
       "      <th>0</th>\n",
       "      <td>310.0</td>\n",
       "      <td>1</td>\n",
       "      <td>24.0</td>\n",
       "      <td>F</td>\n",
       "      <td>5</td>\n",
       "      <td>20</td>\n",
       "      <td>Indoor</td>\n",
       "      <td>3589.0</td>\n",
       "      <td>4.0</td>\n",
       "    </tr>\n",
       "    <tr>\n",
       "      <th>1</th>\n",
       "      <td>499.4</td>\n",
       "      <td>1</td>\n",
       "      <td>23.0</td>\n",
       "      <td>F</td>\n",
       "      <td>4</td>\n",
       "      <td>20</td>\n",
       "      <td>Outdoor</td>\n",
       "      <td>2834.0</td>\n",
       "      <td>5.0</td>\n",
       "    </tr>\n",
       "    <tr>\n",
       "      <th>2</th>\n",
       "      <td>1711.7</td>\n",
       "      <td>2</td>\n",
       "      <td>28.0</td>\n",
       "      <td>F</td>\n",
       "      <td>7</td>\n",
       "      <td>20</td>\n",
       "      <td>Outdoor</td>\n",
       "      <td>10306.0</td>\n",
       "      <td>5.0</td>\n",
       "    </tr>\n",
       "    <tr>\n",
       "      <th>3</th>\n",
       "      <td>1863.8</td>\n",
       "      <td>2</td>\n",
       "      <td>30.0</td>\n",
       "      <td>F</td>\n",
       "      <td>5</td>\n",
       "      <td>20</td>\n",
       "      <td>Outdoor</td>\n",
       "      <td>5233.0</td>\n",
       "      <td>5.0</td>\n",
       "    </tr>\n",
       "    <tr>\n",
       "      <th>4</th>\n",
       "      <td>4318.0</td>\n",
       "      <td>2</td>\n",
       "      <td>22.0</td>\n",
       "      <td>F</td>\n",
       "      <td>3</td>\n",
       "      <td>20</td>\n",
       "      <td>Indoor</td>\n",
       "      <td>1598.0</td>\n",
       "      <td>3.0</td>\n",
       "    </tr>\n",
       "    <tr>\n",
       "      <th>...</th>\n",
       "      <td>...</td>\n",
       "      <td>...</td>\n",
       "      <td>...</td>\n",
       "      <td>...</td>\n",
       "      <td>...</td>\n",
       "      <td>...</td>\n",
       "      <td>...</td>\n",
       "      <td>...</td>\n",
       "      <td>...</td>\n",
       "    </tr>\n",
       "    <tr>\n",
       "      <th>488</th>\n",
       "      <td>2294.1</td>\n",
       "      <td>1</td>\n",
       "      <td>32.0</td>\n",
       "      <td>M</td>\n",
       "      <td>3</td>\n",
       "      <td>3</td>\n",
       "      <td>Indoor</td>\n",
       "      <td>16449.0</td>\n",
       "      <td>5.0</td>\n",
       "    </tr>\n",
       "    <tr>\n",
       "      <th>489</th>\n",
       "      <td>5882.0</td>\n",
       "      <td>2</td>\n",
       "      <td>32.0</td>\n",
       "      <td>M</td>\n",
       "      <td>14</td>\n",
       "      <td>3</td>\n",
       "      <td>Outdoor</td>\n",
       "      <td>21994.0</td>\n",
       "      <td>1.0</td>\n",
       "    </tr>\n",
       "    <tr>\n",
       "      <th>490</th>\n",
       "      <td>2871.7</td>\n",
       "      <td>2</td>\n",
       "      <td>26.0</td>\n",
       "      <td>M</td>\n",
       "      <td>8</td>\n",
       "      <td>3</td>\n",
       "      <td>Outdoor</td>\n",
       "      <td>12143.0</td>\n",
       "      <td>3.0</td>\n",
       "    </tr>\n",
       "    <tr>\n",
       "      <th>491</th>\n",
       "      <td>26359.7</td>\n",
       "      <td>2</td>\n",
       "      <td>26.0</td>\n",
       "      <td>M</td>\n",
       "      <td>5</td>\n",
       "      <td>3</td>\n",
       "      <td>Outdoor</td>\n",
       "      <td>12927.0</td>\n",
       "      <td>1.0</td>\n",
       "    </tr>\n",
       "    <tr>\n",
       "      <th>492</th>\n",
       "      <td>293.8</td>\n",
       "      <td>1</td>\n",
       "      <td>31.0</td>\n",
       "      <td>M</td>\n",
       "      <td>6</td>\n",
       "      <td>3</td>\n",
       "      <td>Outdoor</td>\n",
       "      <td>8848.0</td>\n",
       "      <td>1.0</td>\n",
       "    </tr>\n",
       "  </tbody>\n",
       "</table>\n",
       "<p>492 rows × 9 columns</p>\n",
       "</div>"
      ],
      "text/plain": [
       "     accident_cost  num_claims  driver_age gender  years_driving_exp  car_age  \\\n",
       "0            310.0           1        24.0      F                  5       20   \n",
       "1            499.4           1        23.0      F                  4       20   \n",
       "2           1711.7           2        28.0      F                  7       20   \n",
       "3           1863.8           2        30.0      F                  5       20   \n",
       "4           4318.0           2        22.0      F                  3       20   \n",
       "..             ...         ...         ...    ...                ...      ...   \n",
       "488         2294.1           1        32.0      M                  3        3   \n",
       "489         5882.0           2        32.0      M                 14        3   \n",
       "490         2871.7           2        26.0      M                  8        3   \n",
       "491        26359.7           2        26.0      M                  5        3   \n",
       "492          293.8           1        31.0      M                  6        3   \n",
       "\n",
       "    parking_indoor_outdoor  mileage  num_tickets_issued  \n",
       "0                   Indoor   3589.0                 4.0  \n",
       "1                  Outdoor   2834.0                 5.0  \n",
       "2                  Outdoor  10306.0                 5.0  \n",
       "3                  Outdoor   5233.0                 5.0  \n",
       "4                   Indoor   1598.0                 3.0  \n",
       "..                     ...      ...                 ...  \n",
       "488                 Indoor  16449.0                 5.0  \n",
       "489                Outdoor  21994.0                 1.0  \n",
       "490                Outdoor  12143.0                 3.0  \n",
       "491                Outdoor  12927.0                 1.0  \n",
       "492                Outdoor   8848.0                 1.0  \n",
       "\n",
       "[492 rows x 9 columns]"
      ]
     },
     "execution_count": 38,
     "metadata": {},
     "output_type": "execute_result"
    }
   ],
   "source": [
    "df.parking_indoor_outdoor.replace(0,\"Indoor\",inplace=True)\n",
    "df.parking_indoor_outdoor.replace(1,\"Outdoor\",inplace=True)\n",
    "df"
   ]
  },
  {
   "cell_type": "code",
   "execution_count": 39,
   "id": "c432af20",
   "metadata": {},
   "outputs": [
    {
     "data": {
      "text/plain": [
       "<seaborn.axisgrid.FacetGrid at 0x27cfcfa1760>"
      ]
     },
     "execution_count": 39,
     "metadata": {},
     "output_type": "execute_result"
    },
    {
     "data": {
      "image/png": "[encoded data removed]",
      "text/plain": [
       "<Figure size 360x360 with 1 Axes>"
      ]
     },
     "metadata": {
      "needs_background": "light"
     },
     "output_type": "display_data"
    }
   ],
   "source": [
    "sns.displot(df.mileage,binwidth=1000, kde=True)"
   ]
  },
  {
   "cell_type": "markdown",
   "id": "16bfb9d9",
   "metadata": {},
   "source": [
    "Distribution curve plot of driver age shows left skewed distribution curve. There exist extreme data points in the series which would skew the mean. As such, we will use the median instead to impute missing values. Using median here will help negate the effects of outliers."
   ]
  },
  {
   "cell_type": "code",
   "execution_count": 40,
   "id": "148a8925",
   "metadata": {
    "scrolled": true
   },
   "outputs": [
    {
     "data": {
      "text/plain": [
       "1220.0     1\n",
       "1313.0     1\n",
       "1363.0     1\n",
       "1413.0     1\n",
       "1598.0     1\n",
       "          ..\n",
       "23354.0    1\n",
       "27236.0    1\n",
       "27467.0    1\n",
       "35105.0    1\n",
       "NaN        2\n",
       "Name: mileage, Length: 476, dtype: int64"
      ]
     },
     "execution_count": 40,
     "metadata": {},
     "output_type": "execute_result"
    }
   ],
   "source": [
    "df.mileage.value_counts(dropna=False).sort_index()"
   ]
  },
  {
   "cell_type": "code",
   "execution_count": 41,
   "id": "e88da491",
   "metadata": {},
   "outputs": [],
   "source": [
    "df.mileage.fillna(df.mileage.median(),inplace=True)"
   ]
  },
  {
   "cell_type": "code",
   "execution_count": 42,
   "id": "93e20dbc",
   "metadata": {},
   "outputs": [
    {
     "data": {
      "text/plain": [
       "1220.0     1\n",
       "1313.0     1\n",
       "1363.0     1\n",
       "1413.0     1\n",
       "1598.0     1\n",
       "          ..\n",
       "22397.0    1\n",
       "23354.0    1\n",
       "27236.0    1\n",
       "27467.0    1\n",
       "35105.0    1\n",
       "Name: mileage, Length: 476, dtype: int64"
      ]
     },
     "execution_count": 42,
     "metadata": {},
     "output_type": "execute_result"
    }
   ],
   "source": [
    "df.mileage.value_counts(dropna=False).sort_index()"
   ]
  },
  {
   "cell_type": "code",
   "execution_count": 43,
   "id": "78959ec1",
   "metadata": {},
   "outputs": [
    {
     "data": {
      "text/plain": [
       "<seaborn.axisgrid.FacetGrid at 0x27cfda54e20>"
      ]
     },
     "execution_count": 43,
     "metadata": {},
     "output_type": "execute_result"
    },
    {
     "data": {
      "image/png": "[encoded data removed]",
      "text/plain": [
       "<Figure size 360x360 with 1 Axes>"
      ]
     },
     "metadata": {
      "needs_background": "light"
     },
     "output_type": "display_data"
    }
   ],
   "source": [
    "sns.displot(df.num_tickets_issued,binwidth=1, kde=True)"
   ]
  },
  {
   "cell_type": "markdown",
   "id": "92b1e764",
   "metadata": {},
   "source": [
    "Distribution curve plot of driver age shows a uniform distribution curve. There does not exist extreme data points in the series which would skew the mean. Even though the graph might not resemble a normal distribution curve, we will use mean to impute missing values."
   ]
  },
  {
   "cell_type": "code",
   "execution_count": 44,
   "id": "bcefd359",
   "metadata": {},
   "outputs": [
    {
     "data": {
      "text/plain": [
       "0.0    87\n",
       "1.0    85\n",
       "2.0    74\n",
       "3.0    84\n",
       "4.0    80\n",
       "5.0    81\n",
       "NaN     1\n",
       "Name: num_tickets_issued, dtype: int64"
      ]
     },
     "execution_count": 44,
     "metadata": {},
     "output_type": "execute_result"
    }
   ],
   "source": [
    "df.num_tickets_issued.value_counts(dropna=False).sort_index()"
   ]
  },
  {
   "cell_type": "code",
   "execution_count": 45,
   "id": "ed9161ea",
   "metadata": {},
   "outputs": [],
   "source": [
    "df.num_tickets_issued.fillna(round(df.num_tickets_issued.mean()),inplace=True)"
   ]
  },
  {
   "cell_type": "code",
   "execution_count": 46,
   "id": "71b874c7",
   "metadata": {},
   "outputs": [
    {
     "data": {
      "text/plain": [
       "0.0    87\n",
       "1.0    85\n",
       "2.0    75\n",
       "3.0    84\n",
       "4.0    80\n",
       "5.0    81\n",
       "Name: num_tickets_issued, dtype: int64"
      ]
     },
     "execution_count": 46,
     "metadata": {},
     "output_type": "execute_result"
    }
   ],
   "source": [
    "df.num_tickets_issued.value_counts(dropna=False).sort_index()"
   ]
  },
  {
   "cell_type": "code",
   "execution_count": 47,
   "id": "cfdcf21b",
   "metadata": {},
   "outputs": [
    {
     "data": {
      "text/html": [
       "<div>\n",
       "<style scoped>\n",
       "    .dataframe tbody tr th:only-of-type {\n",
       "        vertical-align: middle;\n",
       "    }\n",
       "\n",
       "    .dataframe tbody tr th {\n",
       "        vertical-align: top;\n",
       "    }\n",
       "\n",
       "    .dataframe thead th {\n",
       "        text-align: right;\n",
       "    }\n",
       "</style>\n",
       "<table border=\"1\" class=\"dataframe\">\n",
       "  <thead>\n",
       "    <tr style=\"text-align: right;\">\n",
       "      <th></th>\n",
       "      <th>accident_cost</th>\n",
       "      <th>num_claims</th>\n",
       "      <th>driver_age</th>\n",
       "      <th>gender</th>\n",
       "      <th>years_driving_exp</th>\n",
       "      <th>car_age</th>\n",
       "      <th>parking_indoor_outdoor</th>\n",
       "      <th>mileage</th>\n",
       "      <th>num_tickets_issued</th>\n",
       "    </tr>\n",
       "  </thead>\n",
       "  <tbody>\n",
       "    <tr>\n",
       "      <th>0</th>\n",
       "      <td>310.0</td>\n",
       "      <td>1</td>\n",
       "      <td>24.0</td>\n",
       "      <td>F</td>\n",
       "      <td>5</td>\n",
       "      <td>20</td>\n",
       "      <td>Indoor</td>\n",
       "      <td>3589.0</td>\n",
       "      <td>4.0</td>\n",
       "    </tr>\n",
       "    <tr>\n",
       "      <th>1</th>\n",
       "      <td>499.4</td>\n",
       "      <td>1</td>\n",
       "      <td>23.0</td>\n",
       "      <td>F</td>\n",
       "      <td>4</td>\n",
       "      <td>20</td>\n",
       "      <td>Outdoor</td>\n",
       "      <td>2834.0</td>\n",
       "      <td>5.0</td>\n",
       "    </tr>\n",
       "    <tr>\n",
       "      <th>2</th>\n",
       "      <td>1711.7</td>\n",
       "      <td>2</td>\n",
       "      <td>28.0</td>\n",
       "      <td>F</td>\n",
       "      <td>7</td>\n",
       "      <td>20</td>\n",
       "      <td>Outdoor</td>\n",
       "      <td>10306.0</td>\n",
       "      <td>5.0</td>\n",
       "    </tr>\n",
       "    <tr>\n",
       "      <th>3</th>\n",
       "      <td>1863.8</td>\n",
       "      <td>2</td>\n",
       "      <td>30.0</td>\n",
       "      <td>F</td>\n",
       "      <td>5</td>\n",
       "      <td>20</td>\n",
       "      <td>Outdoor</td>\n",
       "      <td>5233.0</td>\n",
       "      <td>5.0</td>\n",
       "    </tr>\n",
       "    <tr>\n",
       "      <th>4</th>\n",
       "      <td>4318.0</td>\n",
       "      <td>2</td>\n",
       "      <td>22.0</td>\n",
       "      <td>F</td>\n",
       "      <td>3</td>\n",
       "      <td>20</td>\n",
       "      <td>Indoor</td>\n",
       "      <td>1598.0</td>\n",
       "      <td>3.0</td>\n",
       "    </tr>\n",
       "    <tr>\n",
       "      <th>...</th>\n",
       "      <td>...</td>\n",
       "      <td>...</td>\n",
       "      <td>...</td>\n",
       "      <td>...</td>\n",
       "      <td>...</td>\n",
       "      <td>...</td>\n",
       "      <td>...</td>\n",
       "      <td>...</td>\n",
       "      <td>...</td>\n",
       "    </tr>\n",
       "    <tr>\n",
       "      <th>488</th>\n",
       "      <td>2294.1</td>\n",
       "      <td>1</td>\n",
       "      <td>32.0</td>\n",
       "      <td>M</td>\n",
       "      <td>3</td>\n",
       "      <td>3</td>\n",
       "      <td>Indoor</td>\n",
       "      <td>16449.0</td>\n",
       "      <td>5.0</td>\n",
       "    </tr>\n",
       "    <tr>\n",
       "      <th>489</th>\n",
       "      <td>5882.0</td>\n",
       "      <td>2</td>\n",
       "      <td>32.0</td>\n",
       "      <td>M</td>\n",
       "      <td>14</td>\n",
       "      <td>3</td>\n",
       "      <td>Outdoor</td>\n",
       "      <td>21994.0</td>\n",
       "      <td>1.0</td>\n",
       "    </tr>\n",
       "    <tr>\n",
       "      <th>490</th>\n",
       "      <td>2871.7</td>\n",
       "      <td>2</td>\n",
       "      <td>26.0</td>\n",
       "      <td>M</td>\n",
       "      <td>8</td>\n",
       "      <td>3</td>\n",
       "      <td>Outdoor</td>\n",
       "      <td>12143.0</td>\n",
       "      <td>3.0</td>\n",
       "    </tr>\n",
       "    <tr>\n",
       "      <th>491</th>\n",
       "      <td>26359.7</td>\n",
       "      <td>2</td>\n",
       "      <td>26.0</td>\n",
       "      <td>M</td>\n",
       "      <td>5</td>\n",
       "      <td>3</td>\n",
       "      <td>Outdoor</td>\n",
       "      <td>12927.0</td>\n",
       "      <td>1.0</td>\n",
       "    </tr>\n",
       "    <tr>\n",
       "      <th>492</th>\n",
       "      <td>293.8</td>\n",
       "      <td>1</td>\n",
       "      <td>31.0</td>\n",
       "      <td>M</td>\n",
       "      <td>6</td>\n",
       "      <td>3</td>\n",
       "      <td>Outdoor</td>\n",
       "      <td>8848.0</td>\n",
       "      <td>1.0</td>\n",
       "    </tr>\n",
       "  </tbody>\n",
       "</table>\n",
       "<p>492 rows × 9 columns</p>\n",
       "</div>"
      ],
      "text/plain": [
       "     accident_cost  num_claims  driver_age gender  years_driving_exp  car_age  \\\n",
       "0            310.0           1        24.0      F                  5       20   \n",
       "1            499.4           1        23.0      F                  4       20   \n",
       "2           1711.7           2        28.0      F                  7       20   \n",
       "3           1863.8           2        30.0      F                  5       20   \n",
       "4           4318.0           2        22.0      F                  3       20   \n",
       "..             ...         ...         ...    ...                ...      ...   \n",
       "488         2294.1           1        32.0      M                  3        3   \n",
       "489         5882.0           2        32.0      M                 14        3   \n",
       "490         2871.7           2        26.0      M                  8        3   \n",
       "491        26359.7           2        26.0      M                  5        3   \n",
       "492          293.8           1        31.0      M                  6        3   \n",
       "\n",
       "    parking_indoor_outdoor  mileage  num_tickets_issued  \n",
       "0                   Indoor   3589.0                 4.0  \n",
       "1                  Outdoor   2834.0                 5.0  \n",
       "2                  Outdoor  10306.0                 5.0  \n",
       "3                  Outdoor   5233.0                 5.0  \n",
       "4                   Indoor   1598.0                 3.0  \n",
       "..                     ...      ...                 ...  \n",
       "488                 Indoor  16449.0                 5.0  \n",
       "489                Outdoor  21994.0                 1.0  \n",
       "490                Outdoor  12143.0                 3.0  \n",
       "491                Outdoor  12927.0                 1.0  \n",
       "492                Outdoor   8848.0                 1.0  \n",
       "\n",
       "[492 rows x 9 columns]"
      ]
     },
     "execution_count": 47,
     "metadata": {},
     "output_type": "execute_result"
    }
   ],
   "source": [
    "df"
   ]
  },
  {
   "cell_type": "code",
   "execution_count": 48,
   "id": "102a700e",
   "metadata": {},
   "outputs": [
    {
     "data": {
      "text/plain": [
       "accident_cost             0\n",
       "num_claims                0\n",
       "driver_age                0\n",
       "gender                    0\n",
       "years_driving_exp         0\n",
       "car_age                   0\n",
       "parking_indoor_outdoor    0\n",
       "mileage                   0\n",
       "num_tickets_issued        0\n",
       "dtype: int64"
      ]
     },
     "execution_count": 48,
     "metadata": {},
     "output_type": "execute_result"
    }
   ],
   "source": [
    "df.isnull().sum()"
   ]
  },
  {
   "cell_type": "code",
   "execution_count": 49,
   "id": "ef3baf94",
   "metadata": {},
   "outputs": [],
   "source": [
    "df.to_csv(\"accidents_costs_cleaned.csv\",index=False) # index = False to remove index that appears in csv"
   ]
  },
  {
   "cell_type": "markdown",
   "id": "8c9d86d3",
   "metadata": {},
   "source": [
    "Sources:\n",
    "<br>\n",
    "https://towardsdatascience.com/the-ultimate-guide-to-data-cleaning-3969843991d4\n",
    "<br>\n",
    "https://stats.stackexchange.com/questions/143700/which-is-better-replacement-by-mean-and-replacement-by-median\n",
    "<br>\n",
    "https://getnave.com/blog/frequency-distribution-types/"
   ]
  },
  {
   "cell_type": "markdown",
   "id": "eb596d5b",
   "metadata": {},
   "source": [
    "<h4><center>Analysis</center></h4>"
   ]
  },
  {
   "cell_type": "code",
   "execution_count": 1,
   "id": "724fb30a",
   "metadata": {},
   "outputs": [],
   "source": [
    "import pandas as pd\n",
    "import matplotlib.pyplot as plt\n",
    "import seaborn as sns\n",
    "import numpy as np\n",
    "%matplotlib inline"
   ]
  },
  {
   "cell_type": "code",
   "execution_count": 2,
   "id": "f53288b2",
   "metadata": {},
   "outputs": [],
   "source": [
    "df = pd.read_csv(\"accidents_costs_cleaned.csv\")"
   ]
  },
  {
   "cell_type": "code",
   "execution_count": 6,
   "id": "541b637d",
   "metadata": {},
   "outputs": [
    {
     "data": {
      "text/html": [
       "<div>\n",
       "<style scoped>\n",
       "    .dataframe tbody tr th:only-of-type {\n",
       "        vertical-align: middle;\n",
       "    }\n",
       "\n",
       "    .dataframe tbody tr th {\n",
       "        vertical-align: top;\n",
       "    }\n",
       "\n",
       "    .dataframe thead th {\n",
       "        text-align: right;\n",
       "    }\n",
       "</style>\n",
       "<table border=\"1\" class=\"dataframe\">\n",
       "  <thead>\n",
       "    <tr style=\"text-align: right;\">\n",
       "      <th></th>\n",
       "      <th>accident_cost</th>\n",
       "      <th>num_claims</th>\n",
       "      <th>driver_age</th>\n",
       "      <th>gender</th>\n",
       "      <th>years_driving_exp</th>\n",
       "      <th>car_age</th>\n",
       "      <th>parking_indoor_outdoor</th>\n",
       "      <th>mileage</th>\n",
       "      <th>num_tickets_issued</th>\n",
       "    </tr>\n",
       "  </thead>\n",
       "  <tbody>\n",
       "    <tr>\n",
       "      <th>0</th>\n",
       "      <td>310.0</td>\n",
       "      <td>1</td>\n",
       "      <td>24.0</td>\n",
       "      <td>F</td>\n",
       "      <td>5</td>\n",
       "      <td>20</td>\n",
       "      <td>Indoor</td>\n",
       "      <td>3589.0</td>\n",
       "      <td>4.0</td>\n",
       "    </tr>\n",
       "    <tr>\n",
       "      <th>1</th>\n",
       "      <td>499.4</td>\n",
       "      <td>1</td>\n",
       "      <td>23.0</td>\n",
       "      <td>F</td>\n",
       "      <td>4</td>\n",
       "      <td>20</td>\n",
       "      <td>Outdoor</td>\n",
       "      <td>2834.0</td>\n",
       "      <td>5.0</td>\n",
       "    </tr>\n",
       "    <tr>\n",
       "      <th>2</th>\n",
       "      <td>1711.7</td>\n",
       "      <td>2</td>\n",
       "      <td>28.0</td>\n",
       "      <td>F</td>\n",
       "      <td>7</td>\n",
       "      <td>20</td>\n",
       "      <td>Outdoor</td>\n",
       "      <td>10306.0</td>\n",
       "      <td>5.0</td>\n",
       "    </tr>\n",
       "    <tr>\n",
       "      <th>3</th>\n",
       "      <td>1863.8</td>\n",
       "      <td>2</td>\n",
       "      <td>30.0</td>\n",
       "      <td>F</td>\n",
       "      <td>5</td>\n",
       "      <td>20</td>\n",
       "      <td>Outdoor</td>\n",
       "      <td>5233.0</td>\n",
       "      <td>5.0</td>\n",
       "    </tr>\n",
       "    <tr>\n",
       "      <th>4</th>\n",
       "      <td>4318.0</td>\n",
       "      <td>2</td>\n",
       "      <td>22.0</td>\n",
       "      <td>F</td>\n",
       "      <td>3</td>\n",
       "      <td>20</td>\n",
       "      <td>Indoor</td>\n",
       "      <td>1598.0</td>\n",
       "      <td>3.0</td>\n",
       "    </tr>\n",
       "    <tr>\n",
       "      <th>...</th>\n",
       "      <td>...</td>\n",
       "      <td>...</td>\n",
       "      <td>...</td>\n",
       "      <td>...</td>\n",
       "      <td>...</td>\n",
       "      <td>...</td>\n",
       "      <td>...</td>\n",
       "      <td>...</td>\n",
       "      <td>...</td>\n",
       "    </tr>\n",
       "    <tr>\n",
       "      <th>487</th>\n",
       "      <td>2294.1</td>\n",
       "      <td>1</td>\n",
       "      <td>32.0</td>\n",
       "      <td>M</td>\n",
       "      <td>3</td>\n",
       "      <td>3</td>\n",
       "      <td>Indoor</td>\n",
       "      <td>16449.0</td>\n",
       "      <td>5.0</td>\n",
       "    </tr>\n",
       "    <tr>\n",
       "      <th>488</th>\n",
       "      <td>5882.0</td>\n",
       "      <td>2</td>\n",
       "      <td>32.0</td>\n",
       "      <td>M</td>\n",
       "      <td>14</td>\n",
       "      <td>3</td>\n",
       "      <td>Outdoor</td>\n",
       "      <td>21994.0</td>\n",
       "      <td>1.0</td>\n",
       "    </tr>\n",
       "    <tr>\n",
       "      <th>489</th>\n",
       "      <td>2871.7</td>\n",
       "      <td>2</td>\n",
       "      <td>26.0</td>\n",
       "      <td>M</td>\n",
       "      <td>8</td>\n",
       "      <td>3</td>\n",
       "      <td>Outdoor</td>\n",
       "      <td>12143.0</td>\n",
       "      <td>3.0</td>\n",
       "    </tr>\n",
       "    <tr>\n",
       "      <th>490</th>\n",
       "      <td>26359.7</td>\n",
       "      <td>2</td>\n",
       "      <td>26.0</td>\n",
       "      <td>M</td>\n",
       "      <td>5</td>\n",
       "      <td>3</td>\n",
       "      <td>Outdoor</td>\n",
       "      <td>12927.0</td>\n",
       "      <td>1.0</td>\n",
       "    </tr>\n",
       "    <tr>\n",
       "      <th>491</th>\n",
       "      <td>293.8</td>\n",
       "      <td>1</td>\n",
       "      <td>31.0</td>\n",
       "      <td>M</td>\n",
       "      <td>6</td>\n",
       "      <td>3</td>\n",
       "      <td>Outdoor</td>\n",
       "      <td>8848.0</td>\n",
       "      <td>1.0</td>\n",
       "    </tr>\n",
       "  </tbody>\n",
       "</table>\n",
       "<p>492 rows × 9 columns</p>\n",
       "</div>"
      ],
      "text/plain": [
       "     accident_cost  num_claims  driver_age gender  years_driving_exp  car_age  \\\n",
       "0            310.0           1        24.0      F                  5       20   \n",
       "1            499.4           1        23.0      F                  4       20   \n",
       "2           1711.7           2        28.0      F                  7       20   \n",
       "3           1863.8           2        30.0      F                  5       20   \n",
       "4           4318.0           2        22.0      F                  3       20   \n",
       "..             ...         ...         ...    ...                ...      ...   \n",
       "487         2294.1           1        32.0      M                  3        3   \n",
       "488         5882.0           2        32.0      M                 14        3   \n",
       "489         2871.7           2        26.0      M                  8        3   \n",
       "490        26359.7           2        26.0      M                  5        3   \n",
       "491          293.8           1        31.0      M                  6        3   \n",
       "\n",
       "    parking_indoor_outdoor  mileage  num_tickets_issued  \n",
       "0                   Indoor   3589.0                 4.0  \n",
       "1                  Outdoor   2834.0                 5.0  \n",
       "2                  Outdoor  10306.0                 5.0  \n",
       "3                  Outdoor   5233.0                 5.0  \n",
       "4                   Indoor   1598.0                 3.0  \n",
       "..                     ...      ...                 ...  \n",
       "487                 Indoor  16449.0                 5.0  \n",
       "488                Outdoor  21994.0                 1.0  \n",
       "489                Outdoor  12143.0                 3.0  \n",
       "490                Outdoor  12927.0                 1.0  \n",
       "491                Outdoor   8848.0                 1.0  \n",
       "\n",
       "[492 rows x 9 columns]"
      ]
     },
     "execution_count": 6,
     "metadata": {},
     "output_type": "execute_result"
    }
   ],
   "source": [
    "df"
   ]
  },
  {
   "cell_type": "code",
   "execution_count": 3,
   "id": "0d4a544e",
   "metadata": {},
   "outputs": [
    {
     "data": {
      "image/png": "[encoded data removed]",
      "text/plain": [
       "<Figure size 432x288 with 1 Axes>"
      ]
     },
     "metadata": {
      "needs_background": "light"
     },
     "output_type": "display_data"
    }
   ],
   "source": [
    "bars = [\"1\",\"2\",\"3\",\"4\"]\n",
    "height = df.groupby(\"num_claims\")[\"accident_cost\"].mean().tolist()\n",
    "x_pos = np.arange(len(bars))\n",
    "plt.bar(x_pos, height, color=['blue', 'red', 'blue', 'red', 'cyan'])\n",
    "plt.xticks(x_pos, bars)\n",
    "plt.title(\"Number of Previous Claims - Mean\")\n",
    "plt.savefig(\"Number of Previous claims - Mean.png\",transparent=True)"
   ]
  },
  {
   "cell_type": "code",
   "execution_count": 4,
   "id": "82dc4c97",
   "metadata": {
    "scrolled": true
   },
   "outputs": [
    {
     "data": {
      "image/png": "[encoded data removed]",
      "text/plain": [
       "<Figure size 432x288 with 1 Axes>"
      ]
     },
     "metadata": {
      "needs_background": "light"
     },
     "output_type": "display_data"
    }
   ],
   "source": [
    "bars = [\"1\",\"2\",\"3\",\"4\"]\n",
    "height = df.groupby(\"num_claims\")[\"accident_cost\"].count().tolist()\n",
    "x_pos = np.arange(len(bars))\n",
    "plt.bar(x_pos, height, color=['blue', 'red', 'blue', 'red', 'cyan'])\n",
    "plt.xticks(x_pos, bars)\n",
    "plt.title(\"Number of Previous Caims - Count\")\n",
    "plt.savefig(\"Number of previous claims - Count.png\",transparent=True)"
   ]
  },
  {
   "cell_type": "code",
   "execution_count": 51,
   "id": "2451a327",
   "metadata": {},
   "outputs": [
    {
     "data": {
      "image/png": "[encoded data removed]",
      "text/plain": [
       "<Figure size 432x288 with 1 Axes>"
      ]
     },
     "metadata": {},
     "output_type": "display_data"
    }
   ],
   "source": [
    "fig, ax = plt.subplots()\n",
    " \n",
    "labels = [\"Male  \\n53.7%\",\"Female\\n46.3%\"]\n",
    "\n",
    "x = [53.7,46.3]\n",
    "\n",
    "ax.pie(x, labels=labels,\n",
    "       wedgeprops={'width':0.4}, \n",
    "       startangle=90, \n",
    "       colors=['blue', 'red'],\n",
    "       textprops={'size': 'x-large'})\n",
    "\n",
    "plt.title(\"Gender - Count\")\n",
    "plt.savefig(\"Gender - COunt.png\",transparent=True)"
   ]
  },
  {
   "cell_type": "code",
   "execution_count": 53,
   "id": "e3d01982",
   "metadata": {},
   "outputs": [
    {
     "data": {
      "text/plain": [
       "gender\n",
       "F    2885.0\n",
       "M    2873.0\n",
       "Name: accident_cost, dtype: float64"
      ]
     },
     "execution_count": 53,
     "metadata": {},
     "output_type": "execute_result"
    }
   ],
   "source": [
    "df.groupby(\"gender\")[\"accident_cost\"].mean().round(0)\n"
   ]
  },
  {
   "cell_type": "code",
   "execution_count": 57,
   "id": "d08069da",
   "metadata": {},
   "outputs": [
    {
     "data": {
      "image/png": "[encoded data removed]",
      "text/plain": [
       "<Figure size 432x288 with 1 Axes>"
      ]
     },
     "metadata": {
      "needs_background": "light"
     },
     "output_type": "display_data"
    }
   ],
   "source": [
    "bars = [\"0\",\"1\",\"2\",\"3\",\"4\",\"5\"]\n",
    "height = df.groupby(\"num_tickets_issued\")[\"accident_cost\"].median().tolist()\n",
    "x_pos = np.arange(len(bars))\n",
    "plt.bar(x_pos, height, color=['blue','red'])\n",
    "plt.xticks(x_pos, bars)\n",
    "plt.title(\"Number of Previous Tickets - Median\")\n",
    "plt.savefig(\"Number of previous Tickets - Median.png\",transparent=True)"
   ]
  },
  {
   "cell_type": "code",
   "execution_count": 5,
   "id": "1f887052",
   "metadata": {},
   "outputs": [
    {
     "data": {
      "image/png": "[encoded data removed]",
      "text/plain": [
       "<Figure size 432x288 with 1 Axes>"
      ]
     },
     "metadata": {
      "needs_background": "light"
     },
     "output_type": "display_data"
    }
   ],
   "source": [
    "bars = [\"0\",\"1\",\"2\",\"3\",\"4\",\"5\"]\n",
    "height = df.groupby(\"num_tickets_issued\")[\"accident_cost\"].count().tolist()\n",
    "x_pos = np.arange(len(bars))\n",
    "plt.bar(x_pos, height, color=['blue','red'])\n",
    "plt.xticks(x_pos, bars)\n",
    "plt.title(\"Number of Previous Tickets - Count\")\n",
    "plt.savefig(\"Number of previous Tickets - Count.png\",transparent=True)"
   ]
  },
  {
   "cell_type": "code",
   "execution_count": 65,
   "id": "feeb4f9a",
   "metadata": {
    "scrolled": true
   },
   "outputs": [
    {
     "data": {
      "image/png": "[encoded data removed]",
      "text/plain": [
       "<Figure size 432x288 with 2 Axes>"
      ]
     },
     "metadata": {
      "needs_background": "light"
     },
     "output_type": "display_data"
    }
   ],
   "source": [
    "corr= df.corr()\n",
    "\n",
    "# Getting the Upper Triangle of the co-relation matrix\n",
    "matrix = np.triu(corr)\n",
    "\n",
    "# using the upper triangle matrix as mask \n",
    "sns.heatmap(corr, mask=matrix,linewidths=.5, vmin=-1, vmax=1, cmap ='YlGnBu')\n",
    "plt.savefig(\"filename.png\", bbox_inches=\"tight\",transparent=True)"
   ]
  },
  {
   "cell_type": "code",
   "execution_count": 78,
   "id": "f15c2187",
   "metadata": {},
   "outputs": [
    {
     "name": "stdout",
     "output_type": "stream",
     "text": [
      "[21, 22, 23, 24, 25, 26, 27, 28, 29, 30, 31, 32, 33, 34]\n"
     ]
    }
   ],
   "source": [
    "list1 = list(df.driver_age.value_counts().sort_index().index.values)\n",
    "list2 = []\n",
    "for each in list1:\n",
    "    x = round(each)\n",
    "    list2.append(x)\n",
    "print(list2)"
   ]
  },
  {
   "cell_type": "code",
   "execution_count": 67,
   "id": "fc9d784e",
   "metadata": {},
   "outputs": [
    {
     "name": "stdout",
     "output_type": "stream",
     "text": [
      "[21, 22, 23, 24, 25, 26, 27, 28, 29, 30, 31, 32, 33, 34]\n"
     ]
    },
    {
     "data": {
      "image/png": "[encoded data removed]",
      "text/plain": [
       "<Figure size 432x288 with 1 Axes>"
      ]
     },
     "metadata": {
      "needs_background": "light"
     },
     "output_type": "display_data"
    }
   ],
   "source": [
    "list1 = list(df.driver_age.value_counts().sort_index().index.values)\n",
    "list2 = []\n",
    "for each in list1:\n",
    "    x = round(each)\n",
    "    list2.append(x)\n",
    "print(list2)\n",
    "\n",
    "bars = list2\n",
    "height = df.groupby(\"driver_age\")[\"accident_cost\"].median().tolist()\n",
    "x_pos = np.arange(len(bars))\n",
    "plt.bar(x_pos, height, color=['blue','red'])\n",
    "plt.xticks(x_pos, bars)\n",
    "plt.title(\"Driver Age - Median\")\n",
    "plt.savefig(\"Driver Age Median.png\",transparent=True)"
   ]
  },
  {
   "cell_type": "code",
   "execution_count": 68,
   "id": "a2fb78a9",
   "metadata": {},
   "outputs": [
    {
     "name": "stdout",
     "output_type": "stream",
     "text": [
      "[21, 22, 23, 24, 25, 26, 27, 28, 29, 30, 31, 32, 33, 34]\n"
     ]
    },
    {
     "data": {
      "image/png": "[encoded data removed]",
      "text/plain": [
       "<Figure size 432x288 with 1 Axes>"
      ]
     },
     "metadata": {
      "needs_background": "light"
     },
     "output_type": "display_data"
    }
   ],
   "source": [
    "list1 = list(df.driver_age.value_counts().sort_index().index.values)\n",
    "list2 = []\n",
    "for each in list1:\n",
    "    x = round(each)\n",
    "    list2.append(x)\n",
    "print(list2)\n",
    "\n",
    "bars = list2\n",
    "height = df.groupby(\"driver_age\")[\"accident_cost\"].count().tolist()\n",
    "x_pos = np.arange(len(bars))\n",
    "plt.bar(x_pos, height, color=['blue','red'])\n",
    "plt.xticks(x_pos, bars)\n",
    "plt.title(\"Driver Age - Count\")\n",
    "plt.savefig(\"Driver Age Count.png\",transparent=True)"
   ]
  },
  {
   "cell_type": "markdown",
   "id": "8c17e299",
   "metadata": {},
   "source": [
    "https://matplotlib.org/stable/gallery/color/named_colors.html"
   ]
  }
 ],
 "metadata": {
  "kernelspec": {
   "display_name": "Python 3 (ipykernel)",
   "language": "python",
   "name": "python3"
  },
  "language_info": {
   "codemirror_mode": {
    "name": "ipython",
    "version": 3
   },
   "file_extension": ".py",
   "mimetype": "text/x-python",
   "name": "python",
   "nbconvert_exporter": "python",
   "pygments_lexer": "ipython3",
   "version": "3.9.12"
  }
 },
 "nbformat": 4,
 "nbformat_minor": 5
}
